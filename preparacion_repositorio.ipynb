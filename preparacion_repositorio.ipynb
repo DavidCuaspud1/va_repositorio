{
 "cells": [
  {
   "cell_type": "code",
   "execution_count": 1,
   "metadata": {},
   "outputs": [],
   "source": [
    "#referencia https://medium.com/towards-artificial-intelligence/multi-class-text-classification-using-pyspark-mllib-doc2vec-dbfcee5b39f2\n",
    "import findspark\n",
    "findspark.init() \n",
    "from pyspark.sql import SparkSession\n",
    "import os\n",
    "\n",
    "\n",
    "MAX_MEMORY = \"8g\"\n",
    "spark = SparkSession.builder \\\n",
    "                    .master(\"local\") \\\n",
    "                    .appName('va_repositorio')\\\n",
    "                    .config(\"spark.executor.memory\", MAX_MEMORY) \\\n",
    "                    .config(\"spark.driver.memory\", MAX_MEMORY) \\\n",
    "                    .config(\"spark.jars\", \"E:\\\\va\\\\driverdb\\\\postgresql-42.2.5.jre6\") \\\n",
    "                    .getOrCreate()"
   ]
  },
  {
   "cell_type": "code",
   "execution_count": 2,
   "metadata": {},
   "outputs": [
    {
     "name": "stdout",
     "output_type": "stream",
     "text": [
      "381\n",
      "737\n",
      "417\n",
      "1146\n",
      "169\n",
      "1125\n",
      "79\n",
      "1107\n",
      "1189\n",
      "1252\n",
      "997\n"
     ]
    }
   ],
   "source": [
    "tablas=[\"archivos.ftp_sbpro_gen_20121\",\"archivos.ftp_sbpro_gen_20122\",\"archivos.ftp_sbpro_gen_20131\",\n",
    "        \"archivos.ftp_sbpro_gen_20132\",\"archivos.ftp_sbpro_gen_20141\",\"archivos.ftp_sbpro_gen_20142\",\n",
    "        \"archivos.ftp_sbpro_gen_20151\",\"archivos.ftp_sbpro_gen_20152\",\"archivos.ftp_sbpro_gen_2016\"\n",
    "       ,\"archivos.ftp_sbpro_gen_2017\",\"archivos.ftp_sbpro_gen_2018\"]\n",
    "datos=[]\n",
    "for t in tablas:\n",
    "    df  = spark.read \\\n",
    "        .format(\"jdbc\") \\\n",
    "        .option(\"url\", \"jdbc:postgresql://localhost:5432/va\") \\\n",
    "        .option(\"dbtable\", t) \\\n",
    "        .option(\"user\", \"postgres\") \\\n",
    "        .option(\"password\", \"david\") \\\n",
    "        .option(\"driver\", \"org.postgresql.Driver\") \\\n",
    "        .load()\n",
    "    df=df.where(\"inst_nombre_institucion = 'UNIVERSIDAD DE NARIÑO-PASTO' or inst_nombre_institucion='UNIVERSIDAD DE NARIÑO'\")\n",
    "    datos.append(df)\n",
    "    print(df.count())"
   ]
  },
  {
   "cell_type": "code",
   "execution_count": 3,
   "metadata": {},
   "outputs": [],
   "source": [
    "variables=[\"periodo\",\"estu_mcpio_reside\",\"estu_genero\",\"estu_estadocivil\",\"estu_etnia\",\"estu_limita_motriz\",\"estu_limita_invidente\",\n",
    "          \"estu_limita_sordoconinterprete\",\"estu_limita_sordosininterprete\",\"estu_limita_sordoceguera\",\n",
    "          \"estu_porcentajecreditosaprob\",\"estu_valormatriculauniversidad\",\"estu_pagomatriculabeca\",\n",
    "          \"estu_pagomatriculacredito\",\"estu_pagomatriculapadres\",\"estu_pagomatriculapropio\",\"estu_tomo_cursopreparacion\",\n",
    "          \"estu_cursodocentesies\",\"estu_cursoiesapoyoexterno\",\"estu_cursoiesexterna\",\"estu_simulacrotipoicfes\",\n",
    "          \"estu_actividadrefuerzoareas\",\"estu_actividadrefuerzogeneric\",\"estu_semestrecursa\",\"fami_hogaractual\",\n",
    "          \"fami_cabezafamilia\",\"fami_numpersonasacargo\",\"fami_educacionpadre\",\"fami_educacionmadre\",\"fami_ocupacionpadre\",\n",
    "          \"fami_ocupacionmadre\",\"fami_estratovivienda\",\"fami_nivel_sisben\",\"fami_personashogar\",\"fami_cuartoshogar\",\n",
    "          \"fami_pisos_hogar\",\"fami_tieneinternet\",\"fami_tiene_serviciotv\",\"fami_tienecomputador\",\"fami_tienelavadora\",\n",
    "          \"fami_tiene_microondas\",\"fami_tiene_horno\",\"fami_tieneautomovil\",\"fami_tiene_dvd\",\"fami_tiene_nevera\",\n",
    "          \"fami_tiene_celular\",\"fami_telefono\",\"fami_tienehornomicroogas\",\"fami_tienemotocicleta\",\"fami_numlibros\",\n",
    "          \"estu_dedicacionlecturadiaria\",\"estu_dedicacioninternet\",\"fami_tieneconsolavideojuegos\",\"fami_cuantoscompartebano\",\n",
    "          \"fami_ingreso_fmiliar_mensual\",\"estu_trabaja_actualmente\",\"estu_horassemanatrabaja\",\"estu_tiporemuneracion\",\n",
    "          \"estu_prgm_academico\",\"gruporeferencia\",\"inst_origen\",\"estu_privado_libertad\",\"estu_nse_individual\",\"estu_nse_ies\"]"
   ]
  },
  {
   "cell_type": "code",
   "execution_count": 4,
   "metadata": {},
   "outputs": [
    {
     "name": "stdout",
     "output_type": "stream",
     "text": [
      "select periodo,estu_mcpio_reside,estu_genero,estu_estadocivil,'NO_APLICA'estu_etnia,'NO_APLICA'estu_limita_motriz,'NO_APLICA'estu_limita_invidente,'NO_APLICA'estu_limita_sordoconinterprete,'NO_APLICA'estu_limita_sordosininterprete,'NO_APLICA'estu_limita_sordoceguera,estu_porcentajecreditosaprob,estu_valormatriculauniversidad,estu_pagomatriculabeca,estu_pagomatriculacredito,estu_pagomatriculapadres,estu_pagomatriculapropio,'NO_APLICA'estu_tomo_cursopreparacion,'NO_APLICA'estu_cursodocentesies,'NO_APLICA'estu_cursoiesapoyoexterno,'NO_APLICA'estu_cursoiesexterna,'NO_APLICA'estu_simulacrotipoicfes,'NO_APLICA'estu_actividadrefuerzoareas,'NO_APLICA'estu_actividadrefuerzogeneric,estu_semestrecursa,fami_hogaractual,fami_cabezafamilia,fami_numpersonasacargo,fami_educacionpadre,fami_educacionmadre,fami_ocupacionpadre,fami_ocupacionmadre,fami_estratovivienda,fami_nivel_sisben,fami_personashogar,fami_cuartoshogar,fami_pisos_hogar,fami_tieneinternet,fami_tiene_serviciotv,fami_tienecomputador,fami_tienelavadora,fami_tiene_microondas,fami_tiene_horno,fami_tieneautomovil,fami_tiene_dvd,fami_tiene_nevera,fami_tiene_celular,fami_telefono,'NO_APLICA'fami_tienehornomicroogas,'NO_APLICA'fami_tienemotocicleta,'NO_APLICA'fami_numlibros,'NO_APLICA'estu_dedicacionlecturadiaria,'NO_APLICA'estu_dedicacioninternet,'NO_APLICA'fami_tieneconsolavideojuegos,'NO_APLICA'fami_cuantoscompartebano,fami_ingreso_fmiliar_mensual,estu_trabaja_actualmente,estu_horassemanatrabaja,'NO_APLICA'estu_tiporemuneracion,estu_prgm_academico,gruporeferencia,inst_origen,estu_privado_libertad,'NO_APLICA'estu_nse_individual,'NO_APLICA'estu_nse_ies,estu_consecutivo from icfes0\n",
      "select periodo,estu_mcpio_reside,estu_genero,estu_estadocivil,'NO_APLICA'estu_etnia,'NO_APLICA'estu_limita_motriz,'NO_APLICA'estu_limita_invidente,'NO_APLICA'estu_limita_sordoconinterprete,'NO_APLICA'estu_limita_sordosininterprete,'NO_APLICA'estu_limita_sordoceguera,estu_porcentajecreditosaprob,estu_valormatriculauniversidad,estu_pagomatriculabeca,estu_pagomatriculacredito,estu_pagomatriculapadres,estu_pagomatriculapropio,estu_tomo_cursopreparacion,estu_cursodocentesies,estu_cursoiesapoyoexterno,estu_cursoiesexterna,estu_simulacrotipoicfes,estu_actividadrefuerzoareas,estu_actividadrefuerzogeneric,estu_semestrecursa,fami_hogaractual,fami_cabezafamilia,fami_numpersonasacargo,fami_educacionpadre,fami_educacionmadre,fami_ocupacionpadre,fami_ocupacionmadre,fami_estratovivienda,fami_nivel_sisben,fami_personashogar,fami_cuartoshogar,fami_pisos_hogar,fami_tieneinternet,fami_tiene_serviciotv,fami_tienecomputador,fami_tienelavadora,fami_tiene_microondas,fami_tiene_horno,fami_tieneautomovil,fami_tiene_dvd,fami_tiene_nevera,fami_tiene_celular,fami_telefono,'NO_APLICA'fami_tienehornomicroogas,'NO_APLICA'fami_tienemotocicleta,'NO_APLICA'fami_numlibros,'NO_APLICA'estu_dedicacionlecturadiaria,'NO_APLICA'estu_dedicacioninternet,'NO_APLICA'fami_tieneconsolavideojuegos,'NO_APLICA'fami_cuantoscompartebano,fami_ingreso_fmiliar_mensual,estu_trabaja_actualmente,estu_horassemanatrabaja,'NO_APLICA'estu_tiporemuneracion,estu_prgm_academico,gruporeferencia,inst_origen,estu_privado_libertad,'NO_APLICA'estu_nse_individual,'NO_APLICA'estu_nse_ies,estu_consecutivo from icfes1\n",
      "select periodo,estu_mcpio_reside,estu_genero,estu_estadocivil,'NO_APLICA'estu_etnia,'NO_APLICA'estu_limita_motriz,'NO_APLICA'estu_limita_invidente,'NO_APLICA'estu_limita_sordoconinterprete,'NO_APLICA'estu_limita_sordosininterprete,'NO_APLICA'estu_limita_sordoceguera,estu_porcentajecreditosaprob,estu_valormatriculauniversidad,estu_pagomatriculabeca,estu_pagomatriculacredito,estu_pagomatriculapadres,estu_pagomatriculapropio,estu_tomo_cursopreparacion,estu_cursodocentesies,estu_cursoiesapoyoexterno,estu_cursoiesexterna,estu_simulacrotipoicfes,estu_actividadrefuerzoareas,estu_actividadrefuerzogeneric,estu_semestrecursa,fami_hogaractual,fami_cabezafamilia,fami_numpersonasacargo,fami_educacionpadre,fami_educacionmadre,fami_ocupacionpadre,fami_ocupacionmadre,fami_estratovivienda,fami_nivel_sisben,fami_personashogar,fami_cuartoshogar,fami_pisos_hogar,fami_tieneinternet,fami_tiene_serviciotv,fami_tienecomputador,fami_tienelavadora,fami_tiene_microondas,fami_tiene_horno,fami_tieneautomovil,fami_tiene_dvd,fami_tiene_nevera,fami_tiene_celular,fami_telefono,'NO_APLICA'fami_tienehornomicroogas,'NO_APLICA'fami_tienemotocicleta,'NO_APLICA'fami_numlibros,'NO_APLICA'estu_dedicacionlecturadiaria,'NO_APLICA'estu_dedicacioninternet,'NO_APLICA'fami_tieneconsolavideojuegos,'NO_APLICA'fami_cuantoscompartebano,fami_ingreso_fmiliar_mensual,estu_trabaja_actualmente,estu_horassemanatrabaja,'NO_APLICA'estu_tiporemuneracion,estu_prgm_academico,gruporeferencia,inst_origen,estu_privado_libertad,'NO_APLICA'estu_nse_individual,'NO_APLICA'estu_nse_ies,estu_consecutivo from icfes2\n",
      "select periodo,estu_mcpio_reside,estu_genero,estu_estadocivil,estu_etnia,estu_limita_motriz,estu_limita_invidente,estu_limita_sordoconinterprete,estu_limita_sordosininterprete,estu_limita_sordoceguera,estu_porcentajecreditosaprob,estu_valormatriculauniversidad,estu_pagomatriculabeca,estu_pagomatriculacredito,estu_pagomatriculapadres,estu_pagomatriculapropio,estu_tomo_cursopreparacion,estu_cursodocentesies,estu_cursoiesapoyoexterno,estu_cursoiesexterna,estu_simulacrotipoicfes,estu_actividadrefuerzoareas,estu_actividadrefuerzogeneric,estu_semestrecursa,fami_hogaractual,fami_cabezafamilia,fami_numpersonasacargo,fami_educacionpadre,fami_educacionmadre,fami_ocupacionpadre,fami_ocupacionmadre,fami_estratovivienda,fami_nivel_sisben,fami_personashogar,fami_cuartoshogar,fami_pisos_hogar,fami_tieneinternet,fami_tiene_serviciotv,fami_tienecomputador,fami_tienelavadora,fami_tiene_microondas,fami_tiene_horno,fami_tieneautomovil,fami_tiene_dvd,fami_tiene_nevera,fami_tiene_celular,fami_telefono,'NO_APLICA'fami_tienehornomicroogas,'NO_APLICA'fami_tienemotocicleta,'NO_APLICA'fami_numlibros,'NO_APLICA'estu_dedicacionlecturadiaria,'NO_APLICA'estu_dedicacioninternet,'NO_APLICA'fami_tieneconsolavideojuegos,'NO_APLICA'fami_cuantoscompartebano,fami_ingreso_fmiliar_mensual,estu_trabaja_actualmente,estu_horassemanatrabaja,'NO_APLICA'estu_tiporemuneracion,estu_prgm_academico,gruporeferencia,inst_origen,estu_privado_libertad,'NO_APLICA'estu_nse_individual,'NO_APLICA'estu_nse_ies,estu_consecutivo from icfes3\n",
      "select periodo,estu_mcpio_reside,estu_genero,estu_estadocivil,estu_etnia,estu_limita_motriz,estu_limita_invidente,estu_limita_sordoconinterprete,estu_limita_sordosininterprete,estu_limita_sordoceguera,estu_porcentajecreditosaprob,estu_valormatriculauniversidad,estu_pagomatriculabeca,estu_pagomatriculacredito,estu_pagomatriculapadres,estu_pagomatriculapropio,estu_tomo_cursopreparacion,estu_cursodocentesies,estu_cursoiesapoyoexterno,estu_cursoiesexterna,estu_simulacrotipoicfes,estu_actividadrefuerzoareas,estu_actividadrefuerzogeneric,estu_semestrecursa,fami_hogaractual,fami_cabezafamilia,fami_numpersonasacargo,fami_educacionpadre,fami_educacionmadre,fami_ocupacionpadre,fami_ocupacionmadre,fami_estratovivienda,fami_nivel_sisben,fami_personashogar,fami_cuartoshogar,fami_pisos_hogar,fami_tieneinternet,fami_tiene_serviciotv,fami_tienecomputador,fami_tienelavadora,fami_tiene_microondas,fami_tiene_horno,fami_tieneautomovil,fami_tiene_dvd,fami_tiene_nevera,fami_tiene_celular,fami_telefono,'NO_APLICA'fami_tienehornomicroogas,'NO_APLICA'fami_tienemotocicleta,'NO_APLICA'fami_numlibros,'NO_APLICA'estu_dedicacionlecturadiaria,'NO_APLICA'estu_dedicacioninternet,'NO_APLICA'fami_tieneconsolavideojuegos,'NO_APLICA'fami_cuantoscompartebano,fami_ingreso_fmiliar_mensual,estu_trabaja_actualmente,estu_horassemanatrabaja,'NO_APLICA'estu_tiporemuneracion,estu_prgm_academico,gruporeferencia,inst_origen,estu_privado_libertad,'NO_APLICA'estu_nse_individual,'NO_APLICA'estu_nse_ies,estu_consecutivo from icfes4\n",
      "select periodo,estu_mcpio_reside,estu_genero,estu_estadocivil,estu_etnia,estu_limita_motriz,estu_limita_invidente,estu_limita_sordoconinterprete,estu_limita_sordosininterprete,estu_limita_sordoceguera,estu_porcentajecreditosaprob,estu_valormatriculauniversidad,estu_pagomatriculabeca,estu_pagomatriculacredito,estu_pagomatriculapadres,estu_pagomatriculapropio,estu_tomo_cursopreparacion,estu_cursodocentesies,estu_cursoiesapoyoexterno,estu_cursoiesexterna,estu_simulacrotipoicfes,estu_actividadrefuerzoareas,estu_actividadrefuerzogeneric,estu_semestrecursa,fami_hogaractual,fami_cabezafamilia,fami_numpersonasacargo,fami_educacionpadre,fami_educacionmadre,fami_ocupacionpadre,fami_ocupacionmadre,fami_estratovivienda,fami_nivel_sisben,fami_personashogar,fami_cuartoshogar,fami_pisos_hogar,fami_tieneinternet,fami_tiene_serviciotv,fami_tienecomputador,fami_tienelavadora,fami_tiene_microondas,fami_tiene_horno,fami_tieneautomovil,fami_tiene_dvd,fami_tiene_nevera,fami_tiene_celular,fami_telefono,'NO_APLICA'fami_tienehornomicroogas,'NO_APLICA'fami_tienemotocicleta,'NO_APLICA'fami_numlibros,'NO_APLICA'estu_dedicacionlecturadiaria,'NO_APLICA'estu_dedicacioninternet,'NO_APLICA'fami_tieneconsolavideojuegos,'NO_APLICA'fami_cuantoscompartebano,fami_ingreso_fmiliar_mensual,estu_trabaja_actualmente,estu_horassemanatrabaja,'NO_APLICA'estu_tiporemuneracion,estu_prgm_academico,gruporeferencia,inst_origen,estu_privado_libertad,'NO_APLICA'estu_nse_individual,'NO_APLICA'estu_nse_ies,estu_consecutivo from icfes5\n",
      "select periodo,estu_mcpio_reside,estu_genero,estu_estadocivil,estu_etnia,estu_limita_motriz,estu_limita_invidente,estu_limita_sordoconinterprete,estu_limita_sordosininterprete,estu_limita_sordoceguera,estu_porcentajecreditosaprob,estu_valormatriculauniversidad,estu_pagomatriculabeca,estu_pagomatriculacredito,estu_pagomatriculapadres,estu_pagomatriculapropio,estu_tomo_cursopreparacion,estu_cursodocentesies,estu_cursoiesapoyoexterno,estu_cursoiesexterna,estu_simulacrotipoicfes,estu_actividadrefuerzoareas,estu_actividadrefuerzogeneric,estu_semestrecursa,fami_hogaractual,fami_cabezafamilia,fami_numpersonasacargo,fami_educacionpadre,fami_educacionmadre,fami_ocupacionpadre,fami_ocupacionmadre,fami_estratovivienda,fami_nivel_sisben,fami_personashogar,fami_cuartoshogar,fami_pisos_hogar,fami_tieneinternet,fami_tiene_serviciotv,fami_tienecomputador,fami_tienelavadora,fami_tiene_microondas,fami_tiene_horno,fami_tieneautomovil,fami_tiene_dvd,fami_tiene_nevera,fami_tiene_celular,fami_telefono,'NO_APLICA'fami_tienehornomicroogas,'NO_APLICA'fami_tienemotocicleta,'NO_APLICA'fami_numlibros,'NO_APLICA'estu_dedicacionlecturadiaria,'NO_APLICA'estu_dedicacioninternet,'NO_APLICA'fami_tieneconsolavideojuegos,'NO_APLICA'fami_cuantoscompartebano,fami_ingreso_fmiliar_mensual,estu_trabaja_actualmente,estu_horassemanatrabaja,'NO_APLICA'estu_tiporemuneracion,estu_prgm_academico,gruporeferencia,inst_origen,estu_privado_libertad,'NO_APLICA'estu_nse_individual,'NO_APLICA'estu_nse_ies,estu_consecutivo from icfes6\n",
      "select periodo,estu_mcpio_reside,estu_genero,estu_estadocivil,estu_etnia,estu_limita_motriz,estu_limita_invidente,estu_limita_sordoconinterprete,estu_limita_sordosininterprete,estu_limita_sordoceguera,estu_porcentajecreditosaprob,estu_valormatriculauniversidad,estu_pagomatriculabeca,estu_pagomatriculacredito,estu_pagomatriculapadres,estu_pagomatriculapropio,estu_tomo_cursopreparacion,estu_cursodocentesies,estu_cursoiesapoyoexterno,estu_cursoiesexterna,estu_simulacrotipoicfes,estu_actividadrefuerzoareas,estu_actividadrefuerzogeneric,estu_semestrecursa,fami_hogaractual,fami_cabezafamilia,fami_numpersonasacargo,fami_educacionpadre,fami_educacionmadre,fami_ocupacionpadre,fami_ocupacionmadre,fami_estratovivienda,fami_nivel_sisben,fami_personashogar,fami_cuartoshogar,fami_pisos_hogar,'NO_APLICA'fami_tieneinternet,'NO_APLICA'fami_tiene_serviciotv,fami_tienecomputador,fami_tienelavadora,fami_tiene_microondas,fami_tiene_horno,fami_tieneautomovil,fami_tiene_dvd,fami_tiene_nevera,fami_tiene_celular,fami_telefono,'NO_APLICA'fami_tienehornomicroogas,'NO_APLICA'fami_tienemotocicleta,'NO_APLICA'fami_numlibros,'NO_APLICA'estu_dedicacionlecturadiaria,'NO_APLICA'estu_dedicacioninternet,'NO_APLICA'fami_tieneconsolavideojuegos,'NO_APLICA'fami_cuantoscompartebano,fami_ingreso_fmiliar_mensual,estu_trabaja_actualmente,estu_horassemanatrabaja,'NO_APLICA'estu_tiporemuneracion,estu_prgm_academico,gruporeferencia,inst_origen,estu_privado_libertad,'NO_APLICA'estu_nse_individual,'NO_APLICA'estu_nse_ies,estu_consecutivo from icfes7\n",
      "select periodo,estu_mcpio_reside,estu_genero,estu_estadocivil,estu_etnia,estu_limita_motriz,estu_limita_invidente,'NO_APLICA'estu_limita_sordoconinterprete,'NO_APLICA'estu_limita_sordosininterprete,'NO_APLICA'estu_limita_sordoceguera,'NO_APLICA'estu_porcentajecreditosaprob,estu_valormatriculauniversidad,estu_pagomatriculabeca,estu_pagomatriculacredito,estu_pagomatriculapadres,estu_pagomatriculapropio,'NO_APLICA'estu_tomo_cursopreparacion,estu_cursodocentesies,estu_cursoiesapoyoexterno,estu_cursoiesexterna,estu_simulacrotipoicfes,estu_actividadrefuerzoareas,estu_actividadrefuerzogeneric,estu_semestrecursa,fami_hogaractual,fami_cabezafamilia,fami_numpersonasacargo,fami_educacionpadre,fami_educacionmadre,fami_ocupacionpadre,fami_ocupacionmadre,fami_estratovivienda,'NO_APLICA'fami_nivel_sisben,fami_personashogar,fami_cuartoshogar,'NO_APLICA'fami_pisos_hogar,fami_tieneinternet,'NO_APLICA'fami_tiene_serviciotv,fami_tienecomputador,fami_tienelavadora,'NO_APLICA'fami_tiene_microondas,'NO_APLICA'fami_tiene_horno,fami_tieneautomovil,'NO_APLICA'fami_tiene_dvd,'NO_APLICA'fami_tiene_nevera,'NO_APLICA'fami_tiene_celular,'NO_APLICA'fami_telefono,fami_tienehornomicroogas,fami_tienemotocicleta,fami_numlibros,estu_dedicacionlecturadiaria,estu_dedicacioninternet,'NO_APLICA'fami_tieneconsolavideojuegos,'NO_APLICA'fami_cuantoscompartebano,'NO_APLICA'fami_ingreso_fmiliar_mensual,'NO_APLICA'estu_trabaja_actualmente,estu_horassemanatrabaja,estu_tiporemuneracion,estu_prgm_academico,gruporeferencia,inst_origen,estu_privado_libertad,estu_nse_individual,'NO_APLICA'estu_nse_ies,estu_consecutivo from icfes8\n",
      "select periodo,estu_mcpio_reside,estu_genero,'NO_APLICA'estu_estadocivil,'NO_APLICA'estu_etnia,'NO_APLICA'estu_limita_motriz,'NO_APLICA'estu_limita_invidente,'NO_APLICA'estu_limita_sordoconinterprete,'NO_APLICA'estu_limita_sordosininterprete,'NO_APLICA'estu_limita_sordoceguera,'NO_APLICA'estu_porcentajecreditosaprob,estu_valormatriculauniversidad,estu_pagomatriculabeca,estu_pagomatriculacredito,estu_pagomatriculapadres,estu_pagomatriculapropio,'NO_APLICA'estu_tomo_cursopreparacion,estu_cursodocentesies,estu_cursoiesapoyoexterno,estu_cursoiesexterna,estu_simulacrotipoicfes,estu_actividadrefuerzoareas,estu_actividadrefuerzogeneric,estu_semestrecursa,fami_hogaractual,fami_cabezafamilia,fami_numpersonasacargo,fami_educacionpadre,fami_educacionmadre,fami_ocupacionpadre,fami_ocupacionmadre,fami_estratovivienda,'NO_APLICA'fami_nivel_sisben,fami_personashogar,fami_cuartoshogar,'NO_APLICA'fami_pisos_hogar,fami_tieneinternet,'NO_APLICA'fami_tiene_serviciotv,fami_tienecomputador,fami_tienelavadora,'NO_APLICA'fami_tiene_microondas,'NO_APLICA'fami_tiene_horno,fami_tieneautomovil,'NO_APLICA'fami_tiene_dvd,'NO_APLICA'fami_tiene_nevera,'NO_APLICA'fami_tiene_celular,'NO_APLICA'fami_telefono,fami_tienehornomicroogas,fami_tienemotocicleta,fami_numlibros,estu_dedicacionlecturadiaria,estu_dedicacioninternet,fami_tieneconsolavideojuegos,fami_cuantoscompartebano,'NO_APLICA'fami_ingreso_fmiliar_mensual,'NO_APLICA'estu_trabaja_actualmente,estu_horassemanatrabaja,estu_tiporemuneracion,estu_prgm_academico,gruporeferencia,inst_origen,estu_privado_libertad,estu_nse_individual,estu_nse_ies,estu_consecutivo from icfes9\n",
      "select periodo,estu_mcpio_reside,estu_genero,estu_estadocivil,estu_etnia,'NO_APLICA'estu_limita_motriz,'NO_APLICA'estu_limita_invidente,'NO_APLICA'estu_limita_sordoconinterprete,'NO_APLICA'estu_limita_sordosininterprete,'NO_APLICA'estu_limita_sordoceguera,'NO_APLICA'estu_porcentajecreditosaprob,estu_valormatriculauniversidad,estu_pagomatriculabeca,estu_pagomatriculacredito,estu_pagomatriculapadres,estu_pagomatriculapropio,'NO_APLICA'estu_tomo_cursopreparacion,estu_cursodocentesies,estu_cursoiesapoyoexterno,estu_cursoiesexterna,estu_simulacrotipoicfes,estu_actividadrefuerzoareas,estu_actividadrefuerzogeneric,'NO_APLICA'estu_semestrecursa,fami_hogaractual,fami_cabezafamilia,fami_numpersonasacargo,fami_educacionpadre,fami_educacionmadre,'NO_APLICA'fami_ocupacionpadre,'NO_APLICA'fami_ocupacionmadre,fami_estratovivienda,'NO_APLICA'fami_nivel_sisben,fami_personashogar,fami_cuartoshogar,'NO_APLICA'fami_pisos_hogar,fami_tieneinternet,'NO_APLICA'fami_tiene_serviciotv,fami_tienecomputador,fami_tienelavadora,'NO_APLICA'fami_tiene_microondas,'NO_APLICA'fami_tiene_horno,fami_tieneautomovil,'NO_APLICA'fami_tiene_dvd,'NO_APLICA'fami_tiene_nevera,'NO_APLICA'fami_tiene_celular,'NO_APLICA'fami_telefono,fami_tienehornomicroogas,fami_tienemotocicleta,fami_numlibros,estu_dedicacionlecturadiaria,estu_dedicacioninternet,fami_tieneconsolavideojuegos,fami_cuantoscompartebano,'NO_APLICA'fami_ingreso_fmiliar_mensual,'NO_APLICA'estu_trabaja_actualmente,estu_horassemanatrabaja,estu_tiporemuneracion,estu_prgm_academico,gruporeferencia,inst_origen,estu_privado_libertad,estu_nse_individual,estu_nse_ies,estu_consecutivo from icfes10\n"
     ]
    }
   ],
   "source": [
    "#metodo 2\n",
    "\n",
    "def buscar_variable(variables,nombre):\n",
    "    for v in variables:\n",
    "        if v==nombre:\n",
    "            return True\n",
    "    return False\n",
    "\n",
    "sql=[]\n",
    "indice=0\n",
    "for d in datos:\n",
    "    columnas=\"\"\n",
    "    for v in variables:\n",
    "        if(buscar_variable(d.columns,v)):\n",
    "            columnas=columnas+v+\",\"\n",
    "        else:\n",
    "            columnas=columnas+\"'NO_APLICA'\"+v+\",\"\n",
    "    columnas=columnas+\"estu_consecutivo\"   \n",
    "    d.createOrReplaceTempView(\"icfes\"+str(indice))\n",
    "    s=\"select \"+columnas+\" from \" +\"icfes\"+str(indice)\n",
    "    sql.append(s)\n",
    "    print(s)\n",
    "    indice=indice+1\n",
    "        "
   ]
  },
  {
   "cell_type": "code",
   "execution_count": 6,
   "metadata": {},
   "outputs": [
    {
     "name": "stdout",
     "output_type": "stream",
     "text": [
      "0\n",
      "1\n",
      "2\n",
      "3\n",
      "4\n",
      "5\n",
      "6\n",
      "7\n",
      "8\n",
      "9\n",
      "10\n"
     ]
    },
    {
     "data": {
      "text/plain": [
       "\" select periodo,estu_mcpio_reside,estu_genero,estu_estadocivil,'NO_APLICA'estu_etnia,'NO_APLICA'estu_limita_motriz,'NO_APLICA'estu_limita_invidente,'NO_APLICA'estu_limita_sordoconinterprete,'NO_APLICA'estu_limita_sordosininterprete,'NO_APLICA'estu_limita_sordoceguera,estu_porcentajecreditosaprob,estu_valormatriculauniversidad,estu_pagomatriculabeca,estu_pagomatriculacredito,estu_pagomatriculapadres,estu_pagomatriculapropio,'NO_APLICA'estu_tomo_cursopreparacion,'NO_APLICA'estu_cursodocentesies,'NO_APLICA'estu_cursoiesapoyoexterno,'NO_APLICA'estu_cursoiesexterna,'NO_APLICA'estu_simulacrotipoicfes,'NO_APLICA'estu_actividadrefuerzoareas,'NO_APLICA'estu_actividadrefuerzogeneric,estu_semestrecursa,fami_hogaractual,fami_cabezafamilia,fami_numpersonasacargo,fami_educacionpadre,fami_educacionmadre,fami_ocupacionpadre,fami_ocupacionmadre,fami_estratovivienda,fami_nivel_sisben,fami_personashogar,fami_cuartoshogar,fami_pisos_hogar,fami_tieneinternet,fami_tiene_serviciotv,fami_tienecomputador,fami_tienelavadora,fami_tiene_microondas,fami_tiene_horno,fami_tieneautomovil,fami_tiene_dvd,fami_tiene_nevera,fami_tiene_celular,fami_telefono,'NO_APLICA'fami_tienehornomicroogas,'NO_APLICA'fami_tienemotocicleta,'NO_APLICA'fami_numlibros,'NO_APLICA'estu_dedicacionlecturadiaria,'NO_APLICA'estu_dedicacioninternet,'NO_APLICA'fami_tieneconsolavideojuegos,'NO_APLICA'fami_cuantoscompartebano,fami_ingreso_fmiliar_mensual,estu_trabaja_actualmente,estu_horassemanatrabaja,'NO_APLICA'estu_tiporemuneracion,estu_prgm_academico,gruporeferencia,inst_origen,estu_privado_libertad,'NO_APLICA'estu_nse_individual,'NO_APLICA'estu_nse_ies,estu_consecutivo from icfes0 union  select periodo,estu_mcpio_reside,estu_genero,estu_estadocivil,'NO_APLICA'estu_etnia,'NO_APLICA'estu_limita_motriz,'NO_APLICA'estu_limita_invidente,'NO_APLICA'estu_limita_sordoconinterprete,'NO_APLICA'estu_limita_sordosininterprete,'NO_APLICA'estu_limita_sordoceguera,estu_porcentajecreditosaprob,estu_valormatriculauniversidad,estu_pagomatriculabeca,estu_pagomatriculacredito,estu_pagomatriculapadres,estu_pagomatriculapropio,estu_tomo_cursopreparacion,estu_cursodocentesies,estu_cursoiesapoyoexterno,estu_cursoiesexterna,estu_simulacrotipoicfes,estu_actividadrefuerzoareas,estu_actividadrefuerzogeneric,estu_semestrecursa,fami_hogaractual,fami_cabezafamilia,fami_numpersonasacargo,fami_educacionpadre,fami_educacionmadre,fami_ocupacionpadre,fami_ocupacionmadre,fami_estratovivienda,fami_nivel_sisben,fami_personashogar,fami_cuartoshogar,fami_pisos_hogar,fami_tieneinternet,fami_tiene_serviciotv,fami_tienecomputador,fami_tienelavadora,fami_tiene_microondas,fami_tiene_horno,fami_tieneautomovil,fami_tiene_dvd,fami_tiene_nevera,fami_tiene_celular,fami_telefono,'NO_APLICA'fami_tienehornomicroogas,'NO_APLICA'fami_tienemotocicleta,'NO_APLICA'fami_numlibros,'NO_APLICA'estu_dedicacionlecturadiaria,'NO_APLICA'estu_dedicacioninternet,'NO_APLICA'fami_tieneconsolavideojuegos,'NO_APLICA'fami_cuantoscompartebano,fami_ingreso_fmiliar_mensual,estu_trabaja_actualmente,estu_horassemanatrabaja,'NO_APLICA'estu_tiporemuneracion,estu_prgm_academico,gruporeferencia,inst_origen,estu_privado_libertad,'NO_APLICA'estu_nse_individual,'NO_APLICA'estu_nse_ies,estu_consecutivo from icfes1 union  select periodo,estu_mcpio_reside,estu_genero,estu_estadocivil,'NO_APLICA'estu_etnia,'NO_APLICA'estu_limita_motriz,'NO_APLICA'estu_limita_invidente,'NO_APLICA'estu_limita_sordoconinterprete,'NO_APLICA'estu_limita_sordosininterprete,'NO_APLICA'estu_limita_sordoceguera,estu_porcentajecreditosaprob,estu_valormatriculauniversidad,estu_pagomatriculabeca,estu_pagomatriculacredito,estu_pagomatriculapadres,estu_pagomatriculapropio,estu_tomo_cursopreparacion,estu_cursodocentesies,estu_cursoiesapoyoexterno,estu_cursoiesexterna,estu_simulacrotipoicfes,estu_actividadrefuerzoareas,estu_actividadrefuerzogeneric,estu_semestrecursa,fami_hogaractual,fami_cabezafamilia,fami_numpersonasacargo,fami_educacionpadre,fami_educacionmadre,fami_ocupacionpadre,fami_ocupacionmadre,fami_estratovivienda,fami_nivel_sisben,fami_personashogar,fami_cuartoshogar,fami_pisos_hogar,fami_tieneinternet,fami_tiene_serviciotv,fami_tienecomputador,fami_tienelavadora,fami_tiene_microondas,fami_tiene_horno,fami_tieneautomovil,fami_tiene_dvd,fami_tiene_nevera,fami_tiene_celular,fami_telefono,'NO_APLICA'fami_tienehornomicroogas,'NO_APLICA'fami_tienemotocicleta,'NO_APLICA'fami_numlibros,'NO_APLICA'estu_dedicacionlecturadiaria,'NO_APLICA'estu_dedicacioninternet,'NO_APLICA'fami_tieneconsolavideojuegos,'NO_APLICA'fami_cuantoscompartebano,fami_ingreso_fmiliar_mensual,estu_trabaja_actualmente,estu_horassemanatrabaja,'NO_APLICA'estu_tiporemuneracion,estu_prgm_academico,gruporeferencia,inst_origen,estu_privado_libertad,'NO_APLICA'estu_nse_individual,'NO_APLICA'estu_nse_ies,estu_consecutivo from icfes2 union  select periodo,estu_mcpio_reside,estu_genero,estu_estadocivil,estu_etnia,estu_limita_motriz,estu_limita_invidente,estu_limita_sordoconinterprete,estu_limita_sordosininterprete,estu_limita_sordoceguera,estu_porcentajecreditosaprob,estu_valormatriculauniversidad,estu_pagomatriculabeca,estu_pagomatriculacredito,estu_pagomatriculapadres,estu_pagomatriculapropio,estu_tomo_cursopreparacion,estu_cursodocentesies,estu_cursoiesapoyoexterno,estu_cursoiesexterna,estu_simulacrotipoicfes,estu_actividadrefuerzoareas,estu_actividadrefuerzogeneric,estu_semestrecursa,fami_hogaractual,fami_cabezafamilia,fami_numpersonasacargo,fami_educacionpadre,fami_educacionmadre,fami_ocupacionpadre,fami_ocupacionmadre,fami_estratovivienda,fami_nivel_sisben,fami_personashogar,fami_cuartoshogar,fami_pisos_hogar,fami_tieneinternet,fami_tiene_serviciotv,fami_tienecomputador,fami_tienelavadora,fami_tiene_microondas,fami_tiene_horno,fami_tieneautomovil,fami_tiene_dvd,fami_tiene_nevera,fami_tiene_celular,fami_telefono,'NO_APLICA'fami_tienehornomicroogas,'NO_APLICA'fami_tienemotocicleta,'NO_APLICA'fami_numlibros,'NO_APLICA'estu_dedicacionlecturadiaria,'NO_APLICA'estu_dedicacioninternet,'NO_APLICA'fami_tieneconsolavideojuegos,'NO_APLICA'fami_cuantoscompartebano,fami_ingreso_fmiliar_mensual,estu_trabaja_actualmente,estu_horassemanatrabaja,'NO_APLICA'estu_tiporemuneracion,estu_prgm_academico,gruporeferencia,inst_origen,estu_privado_libertad,'NO_APLICA'estu_nse_individual,'NO_APLICA'estu_nse_ies,estu_consecutivo from icfes3 union  select periodo,estu_mcpio_reside,estu_genero,estu_estadocivil,estu_etnia,estu_limita_motriz,estu_limita_invidente,estu_limita_sordoconinterprete,estu_limita_sordosininterprete,estu_limita_sordoceguera,estu_porcentajecreditosaprob,estu_valormatriculauniversidad,estu_pagomatriculabeca,estu_pagomatriculacredito,estu_pagomatriculapadres,estu_pagomatriculapropio,estu_tomo_cursopreparacion,estu_cursodocentesies,estu_cursoiesapoyoexterno,estu_cursoiesexterna,estu_simulacrotipoicfes,estu_actividadrefuerzoareas,estu_actividadrefuerzogeneric,estu_semestrecursa,fami_hogaractual,fami_cabezafamilia,fami_numpersonasacargo,fami_educacionpadre,fami_educacionmadre,fami_ocupacionpadre,fami_ocupacionmadre,fami_estratovivienda,fami_nivel_sisben,fami_personashogar,fami_cuartoshogar,fami_pisos_hogar,fami_tieneinternet,fami_tiene_serviciotv,fami_tienecomputador,fami_tienelavadora,fami_tiene_microondas,fami_tiene_horno,fami_tieneautomovil,fami_tiene_dvd,fami_tiene_nevera,fami_tiene_celular,fami_telefono,'NO_APLICA'fami_tienehornomicroogas,'NO_APLICA'fami_tienemotocicleta,'NO_APLICA'fami_numlibros,'NO_APLICA'estu_dedicacionlecturadiaria,'NO_APLICA'estu_dedicacioninternet,'NO_APLICA'fami_tieneconsolavideojuegos,'NO_APLICA'fami_cuantoscompartebano,fami_ingreso_fmiliar_mensual,estu_trabaja_actualmente,estu_horassemanatrabaja,'NO_APLICA'estu_tiporemuneracion,estu_prgm_academico,gruporeferencia,inst_origen,estu_privado_libertad,'NO_APLICA'estu_nse_individual,'NO_APLICA'estu_nse_ies,estu_consecutivo from icfes4 union  select periodo,estu_mcpio_reside,estu_genero,estu_estadocivil,estu_etnia,estu_limita_motriz,estu_limita_invidente,estu_limita_sordoconinterprete,estu_limita_sordosininterprete,estu_limita_sordoceguera,estu_porcentajecreditosaprob,estu_valormatriculauniversidad,estu_pagomatriculabeca,estu_pagomatriculacredito,estu_pagomatriculapadres,estu_pagomatriculapropio,estu_tomo_cursopreparacion,estu_cursodocentesies,estu_cursoiesapoyoexterno,estu_cursoiesexterna,estu_simulacrotipoicfes,estu_actividadrefuerzoareas,estu_actividadrefuerzogeneric,estu_semestrecursa,fami_hogaractual,fami_cabezafamilia,fami_numpersonasacargo,fami_educacionpadre,fami_educacionmadre,fami_ocupacionpadre,fami_ocupacionmadre,fami_estratovivienda,fami_nivel_sisben,fami_personashogar,fami_cuartoshogar,fami_pisos_hogar,fami_tieneinternet,fami_tiene_serviciotv,fami_tienecomputador,fami_tienelavadora,fami_tiene_microondas,fami_tiene_horno,fami_tieneautomovil,fami_tiene_dvd,fami_tiene_nevera,fami_tiene_celular,fami_telefono,'NO_APLICA'fami_tienehornomicroogas,'NO_APLICA'fami_tienemotocicleta,'NO_APLICA'fami_numlibros,'NO_APLICA'estu_dedicacionlecturadiaria,'NO_APLICA'estu_dedicacioninternet,'NO_APLICA'fami_tieneconsolavideojuegos,'NO_APLICA'fami_cuantoscompartebano,fami_ingreso_fmiliar_mensual,estu_trabaja_actualmente,estu_horassemanatrabaja,'NO_APLICA'estu_tiporemuneracion,estu_prgm_academico,gruporeferencia,inst_origen,estu_privado_libertad,'NO_APLICA'estu_nse_individual,'NO_APLICA'estu_nse_ies,estu_consecutivo from icfes5 union  select periodo,estu_mcpio_reside,estu_genero,estu_estadocivil,estu_etnia,estu_limita_motriz,estu_limita_invidente,estu_limita_sordoconinterprete,estu_limita_sordosininterprete,estu_limita_sordoceguera,estu_porcentajecreditosaprob,estu_valormatriculauniversidad,estu_pagomatriculabeca,estu_pagomatriculacredito,estu_pagomatriculapadres,estu_pagomatriculapropio,estu_tomo_cursopreparacion,estu_cursodocentesies,estu_cursoiesapoyoexterno,estu_cursoiesexterna,estu_simulacrotipoicfes,estu_actividadrefuerzoareas,estu_actividadrefuerzogeneric,estu_semestrecursa,fami_hogaractual,fami_cabezafamilia,fami_numpersonasacargo,fami_educacionpadre,fami_educacionmadre,fami_ocupacionpadre,fami_ocupacionmadre,fami_estratovivienda,fami_nivel_sisben,fami_personashogar,fami_cuartoshogar,fami_pisos_hogar,fami_tieneinternet,fami_tiene_serviciotv,fami_tienecomputador,fami_tienelavadora,fami_tiene_microondas,fami_tiene_horno,fami_tieneautomovil,fami_tiene_dvd,fami_tiene_nevera,fami_tiene_celular,fami_telefono,'NO_APLICA'fami_tienehornomicroogas,'NO_APLICA'fami_tienemotocicleta,'NO_APLICA'fami_numlibros,'NO_APLICA'estu_dedicacionlecturadiaria,'NO_APLICA'estu_dedicacioninternet,'NO_APLICA'fami_tieneconsolavideojuegos,'NO_APLICA'fami_cuantoscompartebano,fami_ingreso_fmiliar_mensual,estu_trabaja_actualmente,estu_horassemanatrabaja,'NO_APLICA'estu_tiporemuneracion,estu_prgm_academico,gruporeferencia,inst_origen,estu_privado_libertad,'NO_APLICA'estu_nse_individual,'NO_APLICA'estu_nse_ies,estu_consecutivo from icfes6 union  select periodo,estu_mcpio_reside,estu_genero,estu_estadocivil,estu_etnia,estu_limita_motriz,estu_limita_invidente,estu_limita_sordoconinterprete,estu_limita_sordosininterprete,estu_limita_sordoceguera,estu_porcentajecreditosaprob,estu_valormatriculauniversidad,estu_pagomatriculabeca,estu_pagomatriculacredito,estu_pagomatriculapadres,estu_pagomatriculapropio,estu_tomo_cursopreparacion,estu_cursodocentesies,estu_cursoiesapoyoexterno,estu_cursoiesexterna,estu_simulacrotipoicfes,estu_actividadrefuerzoareas,estu_actividadrefuerzogeneric,estu_semestrecursa,fami_hogaractual,fami_cabezafamilia,fami_numpersonasacargo,fami_educacionpadre,fami_educacionmadre,fami_ocupacionpadre,fami_ocupacionmadre,fami_estratovivienda,fami_nivel_sisben,fami_personashogar,fami_cuartoshogar,fami_pisos_hogar,'NO_APLICA'fami_tieneinternet,'NO_APLICA'fami_tiene_serviciotv,fami_tienecomputador,fami_tienelavadora,fami_tiene_microondas,fami_tiene_horno,fami_tieneautomovil,fami_tiene_dvd,fami_tiene_nevera,fami_tiene_celular,fami_telefono,'NO_APLICA'fami_tienehornomicroogas,'NO_APLICA'fami_tienemotocicleta,'NO_APLICA'fami_numlibros,'NO_APLICA'estu_dedicacionlecturadiaria,'NO_APLICA'estu_dedicacioninternet,'NO_APLICA'fami_tieneconsolavideojuegos,'NO_APLICA'fami_cuantoscompartebano,fami_ingreso_fmiliar_mensual,estu_trabaja_actualmente,estu_horassemanatrabaja,'NO_APLICA'estu_tiporemuneracion,estu_prgm_academico,gruporeferencia,inst_origen,estu_privado_libertad,'NO_APLICA'estu_nse_individual,'NO_APLICA'estu_nse_ies,estu_consecutivo from icfes7 union  select periodo,estu_mcpio_reside,estu_genero,estu_estadocivil,estu_etnia,estu_limita_motriz,estu_limita_invidente,'NO_APLICA'estu_limita_sordoconinterprete,'NO_APLICA'estu_limita_sordosininterprete,'NO_APLICA'estu_limita_sordoceguera,'NO_APLICA'estu_porcentajecreditosaprob,estu_valormatriculauniversidad,estu_pagomatriculabeca,estu_pagomatriculacredito,estu_pagomatriculapadres,estu_pagomatriculapropio,'NO_APLICA'estu_tomo_cursopreparacion,estu_cursodocentesies,estu_cursoiesapoyoexterno,estu_cursoiesexterna,estu_simulacrotipoicfes,estu_actividadrefuerzoareas,estu_actividadrefuerzogeneric,estu_semestrecursa,fami_hogaractual,fami_cabezafamilia,fami_numpersonasacargo,fami_educacionpadre,fami_educacionmadre,fami_ocupacionpadre,fami_ocupacionmadre,fami_estratovivienda,'NO_APLICA'fami_nivel_sisben,fami_personashogar,fami_cuartoshogar,'NO_APLICA'fami_pisos_hogar,fami_tieneinternet,'NO_APLICA'fami_tiene_serviciotv,fami_tienecomputador,fami_tienelavadora,'NO_APLICA'fami_tiene_microondas,'NO_APLICA'fami_tiene_horno,fami_tieneautomovil,'NO_APLICA'fami_tiene_dvd,'NO_APLICA'fami_tiene_nevera,'NO_APLICA'fami_tiene_celular,'NO_APLICA'fami_telefono,fami_tienehornomicroogas,fami_tienemotocicleta,fami_numlibros,estu_dedicacionlecturadiaria,estu_dedicacioninternet,'NO_APLICA'fami_tieneconsolavideojuegos,'NO_APLICA'fami_cuantoscompartebano,'NO_APLICA'fami_ingreso_fmiliar_mensual,'NO_APLICA'estu_trabaja_actualmente,estu_horassemanatrabaja,estu_tiporemuneracion,estu_prgm_academico,gruporeferencia,inst_origen,estu_privado_libertad,estu_nse_individual,'NO_APLICA'estu_nse_ies,estu_consecutivo from icfes8 union  select periodo,estu_mcpio_reside,estu_genero,'NO_APLICA'estu_estadocivil,'NO_APLICA'estu_etnia,'NO_APLICA'estu_limita_motriz,'NO_APLICA'estu_limita_invidente,'NO_APLICA'estu_limita_sordoconinterprete,'NO_APLICA'estu_limita_sordosininterprete,'NO_APLICA'estu_limita_sordoceguera,'NO_APLICA'estu_porcentajecreditosaprob,estu_valormatriculauniversidad,estu_pagomatriculabeca,estu_pagomatriculacredito,estu_pagomatriculapadres,estu_pagomatriculapropio,'NO_APLICA'estu_tomo_cursopreparacion,estu_cursodocentesies,estu_cursoiesapoyoexterno,estu_cursoiesexterna,estu_simulacrotipoicfes,estu_actividadrefuerzoareas,estu_actividadrefuerzogeneric,estu_semestrecursa,fami_hogaractual,fami_cabezafamilia,fami_numpersonasacargo,fami_educacionpadre,fami_educacionmadre,fami_ocupacionpadre,fami_ocupacionmadre,fami_estratovivienda,'NO_APLICA'fami_nivel_sisben,fami_personashogar,fami_cuartoshogar,'NO_APLICA'fami_pisos_hogar,fami_tieneinternet,'NO_APLICA'fami_tiene_serviciotv,fami_tienecomputador,fami_tienelavadora,'NO_APLICA'fami_tiene_microondas,'NO_APLICA'fami_tiene_horno,fami_tieneautomovil,'NO_APLICA'fami_tiene_dvd,'NO_APLICA'fami_tiene_nevera,'NO_APLICA'fami_tiene_celular,'NO_APLICA'fami_telefono,fami_tienehornomicroogas,fami_tienemotocicleta,fami_numlibros,estu_dedicacionlecturadiaria,estu_dedicacioninternet,fami_tieneconsolavideojuegos,fami_cuantoscompartebano,'NO_APLICA'fami_ingreso_fmiliar_mensual,'NO_APLICA'estu_trabaja_actualmente,estu_horassemanatrabaja,estu_tiporemuneracion,estu_prgm_academico,gruporeferencia,inst_origen,estu_privado_libertad,estu_nse_individual,estu_nse_ies,estu_consecutivo from icfes9 union select periodo,estu_mcpio_reside,estu_genero,estu_estadocivil,estu_etnia,'NO_APLICA'estu_limita_motriz,'NO_APLICA'estu_limita_invidente,'NO_APLICA'estu_limita_sordoconinterprete,'NO_APLICA'estu_limita_sordosininterprete,'NO_APLICA'estu_limita_sordoceguera,'NO_APLICA'estu_porcentajecreditosaprob,estu_valormatriculauniversidad,estu_pagomatriculabeca,estu_pagomatriculacredito,estu_pagomatriculapadres,estu_pagomatriculapropio,'NO_APLICA'estu_tomo_cursopreparacion,estu_cursodocentesies,estu_cursoiesapoyoexterno,estu_cursoiesexterna,estu_simulacrotipoicfes,estu_actividadrefuerzoareas,estu_actividadrefuerzogeneric,'NO_APLICA'estu_semestrecursa,fami_hogaractual,fami_cabezafamilia,fami_numpersonasacargo,fami_educacionpadre,fami_educacionmadre,'NO_APLICA'fami_ocupacionpadre,'NO_APLICA'fami_ocupacionmadre,fami_estratovivienda,'NO_APLICA'fami_nivel_sisben,fami_personashogar,fami_cuartoshogar,'NO_APLICA'fami_pisos_hogar,fami_tieneinternet,'NO_APLICA'fami_tiene_serviciotv,fami_tienecomputador,fami_tienelavadora,'NO_APLICA'fami_tiene_microondas,'NO_APLICA'fami_tiene_horno,fami_tieneautomovil,'NO_APLICA'fami_tiene_dvd,'NO_APLICA'fami_tiene_nevera,'NO_APLICA'fami_tiene_celular,'NO_APLICA'fami_telefono,fami_tienehornomicroogas,fami_tienemotocicleta,fami_numlibros,estu_dedicacionlecturadiaria,estu_dedicacioninternet,fami_tieneconsolavideojuegos,fami_cuantoscompartebano,'NO_APLICA'fami_ingreso_fmiliar_mensual,'NO_APLICA'estu_trabaja_actualmente,estu_horassemanatrabaja,estu_tiporemuneracion,estu_prgm_academico,gruporeferencia,inst_origen,estu_privado_libertad,estu_nse_individual,estu_nse_ies,estu_consecutivo from icfes10\""
      ]
     },
     "execution_count": 6,
     "metadata": {},
     "output_type": "execute_result"
    }
   ],
   "source": [
    "sql_final=\"\"\n",
    "cont=0\n",
    "for s in sql:\n",
    "    if(cont==len(datos)-1):\n",
    "        sql_final=sql_final+s\n",
    "    else:\n",
    "         sql_final=sql_final+\" \"+s+\" union \"\n",
    "    print(cont)\n",
    "    cont=cont+1\n",
    "sql_final"
   ]
  },
  {
   "cell_type": "code",
   "execution_count": 7,
   "metadata": {},
   "outputs": [],
   "source": [
    "df_repositorio=spark.sql(sql_final)"
   ]
  },
  {
   "cell_type": "code",
   "execution_count": 10,
   "metadata": {},
   "outputs": [
    {
     "data": {
      "text/plain": [
       "8599"
      ]
     },
     "execution_count": 10,
     "metadata": {},
     "output_type": "execute_result"
    }
   ],
   "source": [
    "#for v in variables:\n",
    "   # df_repositorio.groupby(v).count().show(5)\n",
    "df_repositorio.count()"
   ]
  },
  {
   "cell_type": "code",
   "execution_count": 9,
   "metadata": {},
   "outputs": [],
   "source": [
    "df_repositorio.write.jdbc(url=\"jdbc:postgresql://localhost:5432/va\"\n",
    "                  \"?user=postgres&password=david\",\n",
    "              table=\"proyecto.va_repositorio_inicial\",\n",
    "              mode=\"overwrite\",\n",
    "              properties={\"driver\": 'org.postgresql.Driver'})"
   ]
  }
 ],
 "metadata": {
  "kernelspec": {
   "display_name": "Python 3",
   "language": "python",
   "name": "python3"
  },
  "language_info": {
   "codemirror_mode": {
    "name": "ipython",
    "version": 3
   },
   "file_extension": ".py",
   "mimetype": "text/x-python",
   "name": "python",
   "nbconvert_exporter": "python",
   "pygments_lexer": "ipython3",
   "version": "3.8.5"
  }
 },
 "nbformat": 4,
 "nbformat_minor": 4
}
