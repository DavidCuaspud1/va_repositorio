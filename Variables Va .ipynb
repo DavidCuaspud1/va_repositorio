{
 "cells": [
  {
   "cell_type": "code",
   "execution_count": 1,
   "metadata": {},
   "outputs": [],
   "source": [
    "#referencia https://medium.com/towards-artificial-intelligence/multi-class-text-classification-using-pyspark-mllib-doc2vec-dbfcee5b39f2\n",
    "import findspark\n",
    "findspark.init() \n",
    "from pyspark.sql import SparkSession\n",
    "import os\n",
    "\n",
    "\n",
    "MAX_MEMORY = \"8g\"\n",
    "spark = SparkSession.builder \\\n",
    "                    .master(\"local\") \\\n",
    "                    .appName('va_repositorio')\\\n",
    "                    .config(\"spark.executor.memory\", MAX_MEMORY) \\\n",
    "                    .config(\"spark.driver.memory\", MAX_MEMORY) \\\n",
    "                    .config(\"spark.jars\", \"E:\\\\va\\\\driverdb\\\\postgresql-42.2.5.jre6\") \\\n",
    "                    .getOrCreate()"
   ]
  },
  {
   "cell_type": "code",
   "execution_count": 28,
   "metadata": {},
   "outputs": [
    {
     "name": "stdout",
     "output_type": "stream",
     "text": [
      "root\n",
      " |-- periodo: string (nullable = true)\n",
      " |-- estu_mcpio_reside: string (nullable = true)\n",
      " |-- estu_genero: string (nullable = true)\n",
      " |-- estu_estadocivil: string (nullable = true)\n",
      " |-- estu_etnia: string (nullable = true)\n",
      " |-- estu_limita_motriz: string (nullable = true)\n",
      " |-- estu_limita_invidente: string (nullable = true)\n",
      " |-- estu_limita_sordoconinterprete: string (nullable = true)\n",
      " |-- estu_limita_sordosininterprete: string (nullable = true)\n",
      " |-- estu_limita_sordoceguera: string (nullable = true)\n",
      " |-- estu_porcentajecreditosaprob: string (nullable = true)\n",
      " |-- estu_valormatriculauniversidad: string (nullable = true)\n",
      " |-- estu_pagomatriculabeca: string (nullable = true)\n",
      " |-- estu_pagomatriculacredito: string (nullable = true)\n",
      " |-- estu_pagomatriculapadres: string (nullable = true)\n",
      " |-- estu_pagomatriculapropio: string (nullable = true)\n",
      " |-- estu_tomo_cursopreparacion: string (nullable = true)\n",
      " |-- estu_cursodocentesies: string (nullable = true)\n",
      " |-- estu_cursoiesapoyoexterno: string (nullable = true)\n",
      " |-- estu_cursoiesexterna: string (nullable = true)\n",
      " |-- estu_simulacrotipoicfes: string (nullable = true)\n",
      " |-- estu_actividadrefuerzoareas: string (nullable = true)\n",
      " |-- estu_actividadrefuerzogeneric: string (nullable = true)\n",
      " |-- estu_semestrecursa: string (nullable = true)\n",
      " |-- fami_hogaractual: string (nullable = true)\n",
      " |-- fami_cabezafamilia: string (nullable = true)\n",
      " |-- fami_numpersonasacargo: string (nullable = true)\n",
      " |-- fami_educacionpadre: string (nullable = true)\n",
      " |-- fami_educacionmadre: string (nullable = true)\n",
      " |-- fami_ocupacionpadre: string (nullable = true)\n",
      " |-- fami_ocupacionmadre: string (nullable = true)\n",
      " |-- fami_estratovivienda: string (nullable = true)\n",
      " |-- fami_nivel_sisben: string (nullable = true)\n",
      " |-- fami_personashogar: string (nullable = true)\n",
      " |-- fami_cuartoshogar: string (nullable = true)\n",
      " |-- fami_pisos_hogar: string (nullable = true)\n",
      " |-- fami_tieneinternet: string (nullable = true)\n",
      " |-- fami_tiene_serviciotv: string (nullable = true)\n",
      " |-- fami_tienecomputador: string (nullable = true)\n",
      " |-- fami_tienelavadora: string (nullable = true)\n",
      " |-- fami_tiene_microondas: string (nullable = true)\n",
      " |-- fami_tiene_horno: string (nullable = true)\n",
      " |-- fami_tieneautomovil: string (nullable = true)\n",
      " |-- fami_tiene_dvd: string (nullable = true)\n",
      " |-- fami_tiene_nevera: string (nullable = true)\n",
      " |-- fami_tiene_celular: string (nullable = true)\n",
      " |-- fami_telefono: string (nullable = true)\n",
      " |-- fami_tienehornomicroogas: string (nullable = true)\n",
      " |-- fami_tienemotocicleta: string (nullable = true)\n",
      " |-- fami_numlibros: string (nullable = true)\n",
      " |-- estu_dedicacionlecturadiaria: string (nullable = true)\n",
      " |-- estu_dedicacioninternet: string (nullable = true)\n",
      " |-- fami_tieneconsolavideojuegos: string (nullable = true)\n",
      " |-- fami_cuantoscompartebano: string (nullable = true)\n",
      " |-- fami_ingreso_fmiliar_mensual: string (nullable = true)\n",
      " |-- estu_trabaja_actualmente: string (nullable = true)\n",
      " |-- estu_horassemanatrabaja: string (nullable = true)\n",
      " |-- estu_tiporemuneracion: string (nullable = true)\n",
      " |-- estu_prgm_academico: string (nullable = true)\n",
      " |-- gruporeferencia: string (nullable = true)\n",
      " |-- inst_origen: string (nullable = true)\n",
      " |-- estu_privado_libertad: string (nullable = true)\n",
      " |-- estu_nse_individual: string (nullable = true)\n",
      " |-- estu_nse_ies: string (nullable = true)\n",
      " |-- estu_consecutivo: string (nullable = true)\n",
      "\n"
     ]
    }
   ],
   "source": [
    "tabla=\"proyecto.va_repositorio_v2\"\n",
    "df  = spark.read \\\n",
    "    .format(\"jdbc\") \\\n",
    "    .option(\"url\", \"jdbc:postgresql://localhost:5432/va\") \\\n",
    "    .option(\"dbtable\", tabla) \\\n",
    "    .option(\"user\", \"postgres\") \\\n",
    "    .option(\"password\", \"david\") \\\n",
    "    .option(\"driver\", \"org.postgresql.Driver\") \\\n",
    "    .load()\n",
    "df.printSchema()"
   ]
  },
  {
   "cell_type": "code",
   "execution_count": 29,
   "metadata": {
    "scrolled": true
   },
   "outputs": [
    {
     "name": "stdout",
     "output_type": "stream",
     "text": [
      "+-----------------------+-----+\n",
      "|estu_horassemanatrabaja|count|\n",
      "+-----------------------+-----+\n",
      "|                    una|    2|\n",
      "|        mas_de_30_horas|  340|\n",
      "|                 cuatro|  121|\n",
      "|      menos_de_10_horas|  782|\n",
      "|                      0| 1252|\n",
      "|                   seis|   99|\n",
      "|                   doce|   92|\n",
      "|                catorce|   31|\n",
      "|              dieciseis|   87|\n",
      "|                  trece|    7|\n",
      "|              dieciocho|   60|\n",
      "|    entre_21_y_30_horas|  310|\n",
      "|                 quince|  161|\n",
      "|                   ocho|  184|\n",
      "|             diecinueve|   22|\n",
      "|                  siete|   25|\n",
      "|                  cinco|   75|\n",
      "|                   once|   12|\n",
      "|                   tres|   51|\n",
      "|                       | 3254|\n",
      "+-----------------------+-----+\n",
      "only showing top 20 rows\n",
      "\n"
     ]
    }
   ],
   "source": [
    "df.groupby(\"estu_horassemanatrabaja\").count().show()\n",
    "df_pan=df.groupby(\"estu_horassemanatrabaja\").count().toPandas()\n",
    "df_pan.to_csv(\"estu_horassemanatrabaja.csv\",sep=\"|\")"
   ]
  }
 ],
 "metadata": {
  "kernelspec": {
   "display_name": "Python 3",
   "language": "python",
   "name": "python3"
  },
  "language_info": {
   "codemirror_mode": {
    "name": "ipython",
    "version": 3
   },
   "file_extension": ".py",
   "mimetype": "text/x-python",
   "name": "python",
   "nbconvert_exporter": "python",
   "pygments_lexer": "ipython3",
   "version": "3.8.5"
  }
 },
 "nbformat": 4,
 "nbformat_minor": 4
}
