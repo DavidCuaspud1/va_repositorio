{
 "cells": [
  {
   "cell_type": "code",
   "execution_count": 1,
   "metadata": {},
   "outputs": [],
   "source": [
    "#referencia https://medium.com/towards-artificial-intelligence/multi-class-text-classification-using-pyspark-mllib-doc2vec-dbfcee5b39f2\n",
    "import findspark\n",
    "findspark.init() \n",
    "from pyspark.sql import SparkSession\n",
    "import os\n",
    "\n",
    "\n",
    "MAX_MEMORY = \"8g\"\n",
    "spark = SparkSession.builder \\\n",
    "                    .master(\"local\") \\\n",
    "                    .appName('va_repositorio')\\\n",
    "                    .config(\"spark.executor.memory\", MAX_MEMORY) \\\n",
    "                    .config(\"spark.driver.memory\", MAX_MEMORY) \\\n",
    "                    .config(\"spark.jars\", \"E:\\\\va\\\\driverdb\\\\postgresql-42.2.5.jre6\") \\\n",
    "                    .getOrCreate()"
   ]
  },
  {
   "cell_type": "code",
   "execution_count": 187,
   "metadata": {},
   "outputs": [
    {
     "name": "stdout",
     "output_type": "stream",
     "text": [
      "root\n",
      " |-- periodo: string (nullable = true)\n",
      " |-- estu_mcpio_reside: string (nullable = true)\n",
      " |-- estu_genero: string (nullable = true)\n",
      " |-- estu_estadocivil: string (nullable = true)\n",
      " |-- estu_etnia: string (nullable = true)\n",
      " |-- estu_limita_motriz: string (nullable = true)\n",
      " |-- estu_limita_invidente: string (nullable = true)\n",
      " |-- estu_limita_sordoconinterprete: string (nullable = true)\n",
      " |-- estu_limita_sordosininterprete: string (nullable = true)\n",
      " |-- estu_limita_sordoceguera: string (nullable = true)\n",
      " |-- estu_porcentajecreditosaprob: string (nullable = true)\n",
      " |-- estu_valormatriculauniversidad: string (nullable = true)\n",
      " |-- estu_pagomatriculabeca: string (nullable = true)\n",
      " |-- estu_pagomatriculacredito: string (nullable = true)\n",
      " |-- estu_pagomatriculapadres: string (nullable = true)\n",
      " |-- estu_pagomatriculapropio: string (nullable = true)\n",
      " |-- estu_tomo_cursopreparacion: string (nullable = true)\n",
      " |-- estu_cursodocentesies: string (nullable = true)\n",
      " |-- estu_cursoiesapoyoexterno: string (nullable = true)\n",
      " |-- estu_cursoiesexterna: string (nullable = true)\n",
      " |-- estu_simulacrotipoicfes: string (nullable = true)\n",
      " |-- estu_actividadrefuerzoareas: string (nullable = true)\n",
      " |-- estu_actividadrefuerzogeneric: string (nullable = true)\n",
      " |-- estu_semestrecursa: string (nullable = true)\n",
      " |-- fami_hogaractual: string (nullable = true)\n",
      " |-- fami_cabezafamilia: string (nullable = true)\n",
      " |-- fami_numpersonasacargo: string (nullable = true)\n",
      " |-- fami_educacionpadre: string (nullable = true)\n",
      " |-- fami_educacionmadre: string (nullable = true)\n",
      " |-- fami_ocupacionpadre: string (nullable = true)\n",
      " |-- fami_ocupacionmadre: string (nullable = true)\n",
      " |-- fami_estratovivienda: string (nullable = true)\n",
      " |-- fami_nivel_sisben: string (nullable = true)\n",
      " |-- fami_personashogar: string (nullable = true)\n",
      " |-- fami_cuartoshogar: string (nullable = true)\n",
      " |-- fami_pisos_hogar: string (nullable = true)\n",
      " |-- fami_tieneinternet: string (nullable = true)\n",
      " |-- fami_tiene_serviciotv: string (nullable = true)\n",
      " |-- fami_tienecomputador: string (nullable = true)\n",
      " |-- fami_tienelavadora: string (nullable = true)\n",
      " |-- fami_tiene_microondas: string (nullable = true)\n",
      " |-- fami_tiene_horno: string (nullable = true)\n",
      " |-- fami_tieneautomovil: string (nullable = true)\n",
      " |-- fami_tiene_dvd: string (nullable = true)\n",
      " |-- fami_tiene_nevera: string (nullable = true)\n",
      " |-- fami_tiene_celular: string (nullable = true)\n",
      " |-- fami_telefono: string (nullable = true)\n",
      " |-- fami_tienehornomicroogas: string (nullable = true)\n",
      " |-- fami_tienemotocicleta: string (nullable = true)\n",
      " |-- fami_numlibros: string (nullable = true)\n",
      " |-- estu_dedicacionlecturadiaria: string (nullable = true)\n",
      " |-- estu_dedicacioninternet: string (nullable = true)\n",
      " |-- fami_tieneconsolavideojuegos: string (nullable = true)\n",
      " |-- fami_cuantoscompartebano: string (nullable = true)\n",
      " |-- fami_ingreso_fmiliar_mensual: string (nullable = true)\n",
      " |-- estu_trabaja_actualmente: string (nullable = true)\n",
      " |-- estu_horassemanatrabaja: string (nullable = true)\n",
      " |-- estu_tiporemuneracion: string (nullable = true)\n",
      " |-- estu_prgm_academico: string (nullable = true)\n",
      " |-- gruporeferencia: string (nullable = true)\n",
      " |-- inst_origen: string (nullable = true)\n",
      " |-- estu_privado_libertad: string (nullable = true)\n",
      " |-- estu_nse_individual: string (nullable = true)\n",
      " |-- estu_nse_ies: string (nullable = true)\n",
      " |-- estu_consecutivo: string (nullable = true)\n",
      " |-- clase_va_razonamiento_cuantitativo: integer (nullable = true)\n",
      " |-- clase_va_lectura_critica: integer (nullable = true)\n",
      " |-- clase_va_competencias_ciudadanas: integer (nullable = true)\n",
      " |-- clase_va_ingles: integer (nullable = true)\n",
      " |-- anio_preparacion: integer (nullable = true)\n",
      "\n"
     ]
    }
   ],
   "source": [
    "tabla=\"proyecto.view_clase_va\"\n",
    "df  = spark.read \\\n",
    "    .format(\"jdbc\") \\\n",
    "    .option(\"url\", \"jdbc:postgresql://localhost:5432/va\") \\\n",
    "    .option(\"dbtable\", tabla) \\\n",
    "    .option(\"user\", \"postgres\") \\\n",
    "    .option(\"password\", \"david\") \\\n",
    "    .option(\"driver\", \"org.postgresql.Driver\") \\\n",
    "    .load()\n",
    "df.printSchema()"
   ]
  },
  {
   "cell_type": "code",
   "execution_count": 188,
   "metadata": {},
   "outputs": [],
   "source": [
    "df_pan=df.toPandas()"
   ]
  },
  {
   "cell_type": "code",
   "execution_count": 189,
   "metadata": {},
   "outputs": [],
   "source": [
    "Y=df_pan['clase_va_lectura_critica']\n",
    "X=df_pan.drop(columns=['estu_consecutivo','estu_nse_ies','estu_limita_motriz',\n",
    "                       'estu_limita_invidente','estu_limita_sordoconinterprete','estu_limita_sordosininterprete',\n",
    "                       'estu_limita_sordoceguera','inst_origen','estu_privado_libertad','clase_va_lectura_critica',\n",
    "                       'clase_va_razonamiento_cuantitativo','clase_va_competencias_ciudadanas','clase_va_ingles'])"
   ]
  },
  {
   "cell_type": "code",
   "execution_count": 190,
   "metadata": {},
   "outputs": [],
   "source": [
    "import pandas as pd\n",
    "import matplotlib.pyplot as pit\n",
    "\n",
    "X_dummies=pd.get_dummies(X,drop_first=True)\n",
    "X_dummies.drop(columns=['fami_tienehornomicroogas_no_aplica',\n",
    "                            'fami_tienemotocicleta_no_aplica',\n",
    "                            'estu_nse_individual_no_aplica',\n",
    "                            'estu_horassemanatrabaja_no_aplica',\n",
    "'fami_tieneconsolavideojuegos_no_aplica',\n",
    "'estu_pagomatriculabeca_no_aplica',\n",
    "'estu_pagomatriculacredito_no_aplica',\n",
    "'estu_pagomatriculapropio_no_aplica',\n",
    "'estu_tiporemuneracion_no_aplica',\n",
    "'fami_tieneinternet_no_aplica',\n",
    "'estu_pagomatriculapadres_no_aplica',\n",
    "'estu_etnia_no_aplica',\n",
    "'fami_hogaractual_no_aplica',\n",
    "'fami_cabezafamilia_no_aplica',\n",
    "'estu_valormatriculauniversidad_no_aplica',\n",
    "'fami_educacionmadre_no_aplica',\n",
    "'fami_tienecomputador_no_aplica',\n",
    "'fami_educacionpadre_no_aplica',\n",
    "'fami_tienelavadora_no_aplica',\n",
    "'fami_tieneautomovil_no_aplica',\n",
    "'fami_tiene_serviciotv_no_aplica',\n",
    "'fami_ocupacionpadre_no_aplica',\n",
    "'fami_ocupacionmadre_no_aplica',\n",
    "'estu_estadocivil_no_aplica',\n",
    "'estu_simulacrotipoicfes_no_aplica',\n",
    "'estu_actividadrefuerzoareas_no_aplica',\n",
    "'estu_actividadrefuerzogeneric_no_aplica',\n",
    "'estu_tomo_cursopreparacion_no_aplica',\n",
    "'estu_trabaja_actualmente_no_aplica',\n",
    "'fami_pisos_hogar_no_aplica',\n",
    "'fami_tiene_microondas_no_aplica',\n",
    "'fami_tiene_horno_no_aplica',\n",
    "'fami_tiene_dvd_no_aplica',\n",
    "'fami_telefono_no_aplica',\n",
    "'fami_ingreso_fmiliar_mensual_no_aplica',\n",
    "'fami_tiene_nevera_no_aplica',\n",
    "'fami_tiene_celular_no_aplica'],inplace=True)"
   ]
  },
  {
   "cell_type": "code",
   "execution_count": 83,
   "metadata": {},
   "outputs": [],
   "source": [
    "#X_dummies.to_excel(\".\\\\correlaciones.xlsx\")"
   ]
  },
  {
   "cell_type": "code",
   "execution_count": 191,
   "metadata": {},
   "outputs": [
    {
     "data": {
      "text/html": [
       "<div>\n",
       "<style scoped>\n",
       "    .dataframe tbody tr th:only-of-type {\n",
       "        vertical-align: middle;\n",
       "    }\n",
       "\n",
       "    .dataframe tbody tr th {\n",
       "        vertical-align: top;\n",
       "    }\n",
       "\n",
       "    .dataframe thead th {\n",
       "        text-align: right;\n",
       "    }\n",
       "</style>\n",
       "<table border=\"1\" class=\"dataframe\">\n",
       "  <thead>\n",
       "    <tr style=\"text-align: right;\">\n",
       "      <th></th>\n",
       "      <th>anio_preparacion</th>\n",
       "      <th>estu_mcpio_reside_acacias</th>\n",
       "      <th>estu_mcpio_reside_alban</th>\n",
       "      <th>estu_mcpio_reside_aldana</th>\n",
       "      <th>estu_mcpio_reside_ancuya</th>\n",
       "      <th>estu_mcpio_reside_arboleda</th>\n",
       "      <th>estu_mcpio_reside_armenia</th>\n",
       "      <th>estu_mcpio_reside_barranquilla</th>\n",
       "      <th>estu_mcpio_reside_belen</th>\n",
       "      <th>estu_mcpio_reside_bogota_d.c.</th>\n",
       "      <th>...</th>\n",
       "      <th>gruporeferencia_tecnico_en_ciencias_agropecuarias</th>\n",
       "      <th>gruporeferencia_tecnologico_en_salud</th>\n",
       "      <th>gruporeferencia_tecnologico_en_tic</th>\n",
       "      <th>estu_nse_individual_2</th>\n",
       "      <th>estu_nse_individual_3</th>\n",
       "      <th>estu_nse_individual_4</th>\n",
       "      <th>estu_nse_individual_nse1</th>\n",
       "      <th>estu_nse_individual_nse2</th>\n",
       "      <th>estu_nse_individual_nse3</th>\n",
       "      <th>estu_nse_individual_nse4</th>\n",
       "    </tr>\n",
       "  </thead>\n",
       "  <tbody>\n",
       "    <tr>\n",
       "      <th>0</th>\n",
       "      <td>5</td>\n",
       "      <td>0</td>\n",
       "      <td>0</td>\n",
       "      <td>0</td>\n",
       "      <td>0</td>\n",
       "      <td>0</td>\n",
       "      <td>0</td>\n",
       "      <td>0</td>\n",
       "      <td>0</td>\n",
       "      <td>0</td>\n",
       "      <td>...</td>\n",
       "      <td>0</td>\n",
       "      <td>0</td>\n",
       "      <td>0</td>\n",
       "      <td>0</td>\n",
       "      <td>0</td>\n",
       "      <td>0</td>\n",
       "      <td>0</td>\n",
       "      <td>0</td>\n",
       "      <td>0</td>\n",
       "      <td>0</td>\n",
       "    </tr>\n",
       "    <tr>\n",
       "      <th>1</th>\n",
       "      <td>6</td>\n",
       "      <td>0</td>\n",
       "      <td>0</td>\n",
       "      <td>0</td>\n",
       "      <td>0</td>\n",
       "      <td>0</td>\n",
       "      <td>0</td>\n",
       "      <td>0</td>\n",
       "      <td>0</td>\n",
       "      <td>0</td>\n",
       "      <td>...</td>\n",
       "      <td>0</td>\n",
       "      <td>0</td>\n",
       "      <td>0</td>\n",
       "      <td>0</td>\n",
       "      <td>0</td>\n",
       "      <td>0</td>\n",
       "      <td>0</td>\n",
       "      <td>1</td>\n",
       "      <td>0</td>\n",
       "      <td>0</td>\n",
       "    </tr>\n",
       "    <tr>\n",
       "      <th>2</th>\n",
       "      <td>5</td>\n",
       "      <td>0</td>\n",
       "      <td>0</td>\n",
       "      <td>0</td>\n",
       "      <td>0</td>\n",
       "      <td>0</td>\n",
       "      <td>0</td>\n",
       "      <td>0</td>\n",
       "      <td>0</td>\n",
       "      <td>0</td>\n",
       "      <td>...</td>\n",
       "      <td>0</td>\n",
       "      <td>0</td>\n",
       "      <td>0</td>\n",
       "      <td>0</td>\n",
       "      <td>0</td>\n",
       "      <td>0</td>\n",
       "      <td>0</td>\n",
       "      <td>0</td>\n",
       "      <td>0</td>\n",
       "      <td>0</td>\n",
       "    </tr>\n",
       "    <tr>\n",
       "      <th>3</th>\n",
       "      <td>7</td>\n",
       "      <td>0</td>\n",
       "      <td>0</td>\n",
       "      <td>0</td>\n",
       "      <td>0</td>\n",
       "      <td>0</td>\n",
       "      <td>0</td>\n",
       "      <td>0</td>\n",
       "      <td>0</td>\n",
       "      <td>0</td>\n",
       "      <td>...</td>\n",
       "      <td>0</td>\n",
       "      <td>0</td>\n",
       "      <td>0</td>\n",
       "      <td>1</td>\n",
       "      <td>0</td>\n",
       "      <td>0</td>\n",
       "      <td>0</td>\n",
       "      <td>0</td>\n",
       "      <td>0</td>\n",
       "      <td>0</td>\n",
       "    </tr>\n",
       "    <tr>\n",
       "      <th>4</th>\n",
       "      <td>6</td>\n",
       "      <td>0</td>\n",
       "      <td>0</td>\n",
       "      <td>0</td>\n",
       "      <td>0</td>\n",
       "      <td>0</td>\n",
       "      <td>0</td>\n",
       "      <td>0</td>\n",
       "      <td>0</td>\n",
       "      <td>0</td>\n",
       "      <td>...</td>\n",
       "      <td>0</td>\n",
       "      <td>0</td>\n",
       "      <td>0</td>\n",
       "      <td>0</td>\n",
       "      <td>0</td>\n",
       "      <td>0</td>\n",
       "      <td>0</td>\n",
       "      <td>0</td>\n",
       "      <td>0</td>\n",
       "      <td>0</td>\n",
       "    </tr>\n",
       "  </tbody>\n",
       "</table>\n",
       "<p>5 rows × 347 columns</p>\n",
       "</div>"
      ],
      "text/plain": [
       "   anio_preparacion  estu_mcpio_reside_acacias  estu_mcpio_reside_alban  \\\n",
       "0                 5                          0                        0   \n",
       "1                 6                          0                        0   \n",
       "2                 5                          0                        0   \n",
       "3                 7                          0                        0   \n",
       "4                 6                          0                        0   \n",
       "\n",
       "   estu_mcpio_reside_aldana  estu_mcpio_reside_ancuya  \\\n",
       "0                         0                         0   \n",
       "1                         0                         0   \n",
       "2                         0                         0   \n",
       "3                         0                         0   \n",
       "4                         0                         0   \n",
       "\n",
       "   estu_mcpio_reside_arboleda  estu_mcpio_reside_armenia  \\\n",
       "0                           0                          0   \n",
       "1                           0                          0   \n",
       "2                           0                          0   \n",
       "3                           0                          0   \n",
       "4                           0                          0   \n",
       "\n",
       "   estu_mcpio_reside_barranquilla  estu_mcpio_reside_belen  \\\n",
       "0                               0                        0   \n",
       "1                               0                        0   \n",
       "2                               0                        0   \n",
       "3                               0                        0   \n",
       "4                               0                        0   \n",
       "\n",
       "   estu_mcpio_reside_bogota_d.c.  ...  \\\n",
       "0                              0  ...   \n",
       "1                              0  ...   \n",
       "2                              0  ...   \n",
       "3                              0  ...   \n",
       "4                              0  ...   \n",
       "\n",
       "   gruporeferencia_tecnico_en_ciencias_agropecuarias  \\\n",
       "0                                                  0   \n",
       "1                                                  0   \n",
       "2                                                  0   \n",
       "3                                                  0   \n",
       "4                                                  0   \n",
       "\n",
       "   gruporeferencia_tecnologico_en_salud  gruporeferencia_tecnologico_en_tic  \\\n",
       "0                                     0                                   0   \n",
       "1                                     0                                   0   \n",
       "2                                     0                                   0   \n",
       "3                                     0                                   0   \n",
       "4                                     0                                   0   \n",
       "\n",
       "   estu_nse_individual_2  estu_nse_individual_3  estu_nse_individual_4  \\\n",
       "0                      0                      0                      0   \n",
       "1                      0                      0                      0   \n",
       "2                      0                      0                      0   \n",
       "3                      1                      0                      0   \n",
       "4                      0                      0                      0   \n",
       "\n",
       "   estu_nse_individual_nse1  estu_nse_individual_nse2  \\\n",
       "0                         0                         0   \n",
       "1                         0                         1   \n",
       "2                         0                         0   \n",
       "3                         0                         0   \n",
       "4                         0                         0   \n",
       "\n",
       "   estu_nse_individual_nse3  estu_nse_individual_nse4  \n",
       "0                         0                         0  \n",
       "1                         0                         0  \n",
       "2                         0                         0  \n",
       "3                         0                         0  \n",
       "4                         0                         0  \n",
       "\n",
       "[5 rows x 347 columns]"
      ]
     },
     "execution_count": 191,
     "metadata": {},
     "output_type": "execute_result"
    }
   ],
   "source": [
    "X_dummies.head()"
   ]
  },
  {
   "cell_type": "code",
   "execution_count": 192,
   "metadata": {},
   "outputs": [
    {
     "name": "stdout",
     "output_type": "stream",
     "text": [
      "Total ejemplos train 3595.\n",
      "Total ejemplos test 1542.\n",
      "Valor Agregado train: 2263\n",
      "No Valor Agregado train: 1332\n",
      "Valor Agregado test: 977\n",
      "No Valor Agregado test 565\n"
     ]
    }
   ],
   "source": [
    "from sklearn.model_selection import train_test_split\n",
    "\n",
    "# Split the 'features' and 'income' data into training and testing sets\n",
    "X_train, X_test, y_train, y_test = train_test_split(X_dummies, \n",
    "                                                    Y, \n",
    "                                                    test_size = 0.3, \n",
    "                                                    random_state = 0)\n",
    "# Show the results of the split\n",
    "print(\"Total ejemplos train {}.\".format(X_train.shape[0]))\n",
    "print(\"Total ejemplos test {}.\".format(X_test.shape[0]))\n",
    "\n",
    "print(\"Valor Agregado train:\",y_train[y_train==1].count())\n",
    "print(\"No Valor Agregado train:\",y_train[y_train==0].count())\n",
    "\n",
    "print(\"Valor Agregado test:\",y_test[y_test==1].count())\n",
    "print(\"No Valor Agregado test\",y_test[y_test==0].count())\n"
   ]
  },
  {
   "cell_type": "code",
   "execution_count": 193,
   "metadata": {},
   "outputs": [
    {
     "data": {
      "text/plain": [
       "DecisionTreeClassifier(criterion='entropy', max_depth=4, min_samples_leaf=10)"
      ]
     },
     "execution_count": 193,
     "metadata": {},
     "output_type": "execute_result"
    }
   ],
   "source": [
    "from sklearn import tree\n",
    "\n",
    "# Crear Arbol de decision con profundidad = 4\n",
    "modelo1 = tree.DecisionTreeClassifier(criterion='entropy',\n",
    "                                            min_samples_leaf=10,\n",
    "                                            max_depth = 4\n",
    "                                           )\n",
    "modelo1.fit(X_train, y_train)"
   ]
  },
  {
   "cell_type": "code",
   "execution_count": 194,
   "metadata": {},
   "outputs": [
    {
     "name": "stdout",
     "output_type": "stream",
     "text": [
      "4\n",
      "16\n"
     ]
    }
   ],
   "source": [
    "print(modelo1.get_depth())\n",
    "print(modelo1.get_n_leaves())"
   ]
  },
  {
   "cell_type": "code",
   "execution_count": 195,
   "metadata": {},
   "outputs": [
    {
     "data": {
      "text/plain": [
       "DecisionTreeClassifier(criterion='entropy', max_depth=10)"
      ]
     },
     "execution_count": 195,
     "metadata": {},
     "output_type": "execute_result"
    }
   ],
   "source": [
    "# Crear Arbol de decision con profundidad = 10\n",
    "modelo2 = tree.DecisionTreeClassifier(criterion='entropy',\n",
    "                                            #min_samples_split=100,\n",
    "                                            #min_samples_leaf=10,\n",
    "                                            max_depth = 10\n",
    "                                           )\n",
    "modelo2.fit(X_train, y_train)"
   ]
  },
  {
   "cell_type": "code",
   "execution_count": 196,
   "metadata": {},
   "outputs": [
    {
     "name": "stdout",
     "output_type": "stream",
     "text": [
      "10\n",
      "174\n"
     ]
    }
   ],
   "source": [
    "print(modelo2.get_depth())\n",
    "print(modelo2.get_n_leaves())"
   ]
  },
  {
   "cell_type": "code",
   "execution_count": 197,
   "metadata": {},
   "outputs": [
    {
     "data": {
      "text/plain": [
       "DecisionTreeClassifier(ccp_alpha=0.01, criterion='entropy')"
      ]
     },
     "execution_count": 197,
     "metadata": {},
     "output_type": "execute_result"
    }
   ],
   "source": [
    "# Crear Arbol de decision con profundidad = 4\n",
    "modelo3 = tree.DecisionTreeClassifier(criterion='entropy',\n",
    "                                             ccp_alpha=0.01\n",
    "      )\n",
    "modelo3.fit(X_train, y_train)"
   ]
  },
  {
   "cell_type": "code",
   "execution_count": 198,
   "metadata": {},
   "outputs": [
    {
     "name": "stdout",
     "output_type": "stream",
     "text": [
      "3\n"
     ]
    }
   ],
   "source": [
    "print(modelo3.get_depth())"
   ]
  },
  {
   "cell_type": "code",
   "execution_count": 199,
   "metadata": {},
   "outputs": [],
   "source": [
    "from sklearn.metrics import confusion_matrix\n",
    "from sklearn.metrics import accuracy_score,precision_score, balanced_accuracy_score,f1_score\n",
    "\n",
    "\n",
    "def _score_func(estimator, X, y):\n",
    "    y_pred_test = estimator.predict(X)\n",
    "    return balanced_accuracy_score(y, y_pred_test)\n",
    "\n",
    "class Class_Fit(object):\n",
    "    def __init__(self, clf, params=None):\n",
    "        if params:            \n",
    "            self.clf = clf(**params)\n",
    "        else:\n",
    "            self.clf = clf()\n",
    "\n",
    "    def train(self, x_train, y_train):\n",
    "        self.clf.fit(x_train, y_train)\n",
    "\n",
    "    def predict(self, x):\n",
    "        return self.clf.predict(x)\n",
    "    \n",
    "    def grid_search(self, parameters, Kfold):\n",
    "        self.grid = GridSearchCV(estimator = self.clf, param_grid = parameters, cv = Kfold,scoring=_score_func)\n",
    "        \n",
    "    def grid_fit(self, X, Y):\n",
    "        self.grid.fit(X, Y)\n",
    "        \n",
    "    def grid_predict(self, X, Y):\n",
    "        self.predictions = self.grid.predict(X)\n",
    "        print(\"Precision: {:.2f} % \".format(100*metrics.balanced_accuracy_score(Y, self.predictions)))\n",
    "from sklearn.model_selection import GridSearchCV"
   ]
  },
  {
   "cell_type": "code",
   "execution_count": 200,
   "metadata": {},
   "outputs": [
    {
     "name": "stdout",
     "output_type": "stream",
     "text": [
      "Parámetros árbol: {'ccp_alpha': 0.0085, 'criterion': 'entropy'}\n",
      "Wall time: 6.61 s\n"
     ]
    }
   ],
   "source": [
    "%%time\n",
    "gb = Class_Fit(clf = tree.DecisionTreeClassifier)\n",
    "param_grid = {\n",
    "             'criterion':['entropy'],\n",
    "             'ccp_alpha':[0,0.0025,0.0050,0.0075,0.008,0.0085,0.01,0.05],\n",
    "             }\n",
    "\n",
    "\n",
    "gb.grid_search(parameters = param_grid, Kfold = 10)\n",
    "gb.grid_fit(X = X_train, Y = y_train)\n",
    "\n",
    "print(\"Parámetros árbol:\",gb.grid.best_params_)\n",
    "mejor_arbol=gb.grid.best_estimator_"
   ]
  },
  {
   "cell_type": "code",
   "execution_count": 201,
   "metadata": {},
   "outputs": [
    {
     "data": {
      "text/plain": [
       "DecisionTreeClassifier(ccp_alpha=0.0085, criterion='entropy')"
      ]
     },
     "execution_count": 201,
     "metadata": {},
     "output_type": "execute_result"
    }
   ],
   "source": [
    "params=  {'ccp_alpha': 0.0085, 'criterion': 'entropy'}\n",
    "modelo4=  tree.DecisionTreeClassifier(**params)\n",
    "modelo4.fit(X_train, y_train)"
   ]
  },
  {
   "cell_type": "code",
   "execution_count": 202,
   "metadata": {},
   "outputs": [
    {
     "data": {
      "text/plain": [
       "GridSearchCV(cv=10, estimator=DecisionTreeClassifier(),\n",
       "             param_grid={'ccp_alpha': [0, 0.0025, 0.005, 0.0075, 0.008, 0.0085,\n",
       "                                       0.01, 0.05],\n",
       "                         'criterion': ['entropy']},\n",
       "             scoring=<function _score_func at 0x0000024E1B0AC160>)"
      ]
     },
     "execution_count": 202,
     "metadata": {},
     "output_type": "execute_result"
    }
   ],
   "source": [
    "gb.grid"
   ]
  },
  {
   "cell_type": "code",
   "execution_count": 203,
   "metadata": {},
   "outputs": [
    {
     "name": "stdout",
     "output_type": "stream",
     "text": [
      "4\n",
      "5\n"
     ]
    }
   ],
   "source": [
    "print(modelo4.get_depth())\n",
    "print(modelo4.get_n_leaves())"
   ]
  },
  {
   "cell_type": "code",
   "execution_count": 204,
   "metadata": {},
   "outputs": [
    {
     "data": {
      "image/png": "[encoded data removed]",
      "text/plain": [
       "<IPython.core.display.Image object>"
      ]
     },
     "execution_count": 204,
     "metadata": {},
     "output_type": "execute_result"
    }
   ],
   "source": [
    "import os\n",
    "from six import StringIO \n",
    "#conda install -c conda-forge pydotplus\n",
    "os.environ['PATH'] = os.environ['PATH']+';'+os.environ['CONDA_PREFIX']+r\"\\Library\\bin\\graphviz\"\n",
    "\n",
    "#https://graphviz.org/download/\n",
    "#conda install -c anaconda graphviz\n",
    "#conda install python-graphviz\n",
    "#pip install graphviz\n",
    "#pip install pydotplus\n",
    "#from sklearn.externals.six import StringIO \n",
    "# from six import StringIO\n",
    "from sklearn.tree import export_graphviz\n",
    "import pydotplus\n",
    "from IPython.display import Image \n",
    "\n",
    "dot_data = StringIO()\n",
    "\n",
    "feature_cols=X_train.columns\n",
    "export_graphviz(modelo4, out_file=dot_data,  \n",
    "                filled=True, rounded=True,\n",
    "                special_characters=True,feature_names = feature_cols,class_names=['No Tiene VA','VA'])\n",
    "\n",
    "graph = pydotplus.graph_from_dot_data(dot_data.getvalue())  \n",
    "graph.write_png('arbol_razonamiento10.png')\n",
    "Image(graph.create_png())"
   ]
  },
  {
   "cell_type": "code",
   "execution_count": 67,
   "metadata": {},
   "outputs": [
    {
     "name": "stdout",
     "output_type": "stream",
     "text": [
      "_________________________________________\n",
      "Modelo 1\n",
      "accuracy test: 0.7146562905317769\n",
      "accuracy train: 0.7123783031988874\n",
      "Balanced_accuracy test: 0.6850139531009205\n",
      "Balanced_accuracy train: 0.6892251392203659\n",
      "              precision    recall  f1-score   support\n",
      "\n",
      "           0       0.71      0.52      0.60       636\n",
      "           1       0.72      0.85      0.78       906\n",
      "\n",
      "    accuracy                           0.71      1542\n",
      "   macro avg       0.71      0.69      0.69      1542\n",
      "weighted avg       0.71      0.71      0.70      1542\n",
      "\n",
      "_________________________________________\n",
      "Modelo 2\n",
      "accuracy test: 0.6789883268482491\n",
      "accuracy train: 0.8127955493741308\n",
      "Balanced_accuracy test: 0.6637979507684618\n",
      "Balanced_accuracy train: 0.7999968178202068\n",
      "              precision    recall  f1-score   support\n",
      "\n",
      "           0       0.62      0.58      0.60       636\n",
      "           1       0.72      0.75      0.73       906\n",
      "\n",
      "    accuracy                           0.68      1542\n",
      "   macro avg       0.67      0.66      0.67      1542\n",
      "weighted avg       0.68      0.68      0.68      1542\n",
      "\n",
      "_________________________________________\n",
      "Modelo 3\n",
      "accuracy test: 0.6517509727626459\n",
      "accuracy train: 0.6486787204450626\n",
      "Balanced_accuracy test: 0.5790016243908535\n",
      "Balanced_accuracy train: 0.5803253778838504\n",
      "              precision    recall  f1-score   support\n",
      "\n",
      "           0       0.95      0.16      0.28       636\n",
      "           1       0.63      0.99      0.77       906\n",
      "\n",
      "    accuracy                           0.65      1542\n",
      "   macro avg       0.79      0.58      0.52      1542\n",
      "weighted avg       0.76      0.65      0.57      1542\n",
      "\n",
      "_________________________________________\n",
      "Modelo 4\n",
      "accuracy test: 0.7204928664072633\n",
      "accuracy train: 0.7221140472878999\n",
      "Balanced_accuracy test: 0.7021637719188638\n",
      "Balanced_accuracy train: 0.7066666666666667\n",
      "              precision    recall  f1-score   support\n",
      "\n",
      "           0       0.68      0.60      0.64       636\n",
      "           1       0.74      0.81      0.77       906\n",
      "\n",
      "    accuracy                           0.72      1542\n",
      "   macro avg       0.71      0.70      0.71      1542\n",
      "weighted avg       0.72      0.72      0.72      1542\n",
      "\n",
      "_________________________________________\n"
     ]
    }
   ],
   "source": [
    "from sklearn import metrics\n",
    "from sklearn.metrics import accuracy_score,precision_score,classification_report,balanced_accuracy_score\n",
    "\n",
    "\n",
    "def eval_model(testData,trainingData,y_test,y_train,model):\n",
    "    predictions_test = model.predict(testData)\n",
    "    predictions_train = model.predict(trainingData)\n",
    "    # Select (prediction, true label) and compute test error\n",
    "    print(\"accuracy test:\",accuracy_score(y_test, predictions_test))\n",
    "    print(\"accuracy train:\",accuracy_score(y_train, predictions_train))\n",
    "    \n",
    "    print(\"Balanced_accuracy test:\",balanced_accuracy_score(y_test, predictions_test))\n",
    "    print(\"Balanced_accuracy train:\",balanced_accuracy_score(y_train, predictions_train))\n",
    "    \n",
    "    print(classification_report(y_test,predictions_test))\n",
    "      \n",
    "    return (balanced_accuracy_score(y_test, predictions_test))\n",
    "print(\"_________________________________________\")\n",
    "print(\"Modelo 1\")\n",
    "eval_model(X_test,X_train,y_test,y_train,modelo1)\n",
    "print(\"_________________________________________\")\n",
    "print(\"Modelo 2\")\n",
    "eval_model(X_test,X_train,y_test,y_train,modelo2)\n",
    "print(\"_________________________________________\")\n",
    "print(\"Modelo 3\")\n",
    "eval_model(X_test,X_train,y_test,y_train,modelo3)\n",
    "print(\"_________________________________________\")\n",
    "print(\"Modelo 4\")\n",
    "eval_model(X_test,X_train,y_test,y_train,modelo4)\n",
    "print(\"_________________________________________\")"
   ]
  }
 ],
 "metadata": {
  "kernelspec": {
   "display_name": "Python 3",
   "language": "python",
   "name": "python3"
  },
  "language_info": {
   "codemirror_mode": {
    "name": "ipython",
    "version": 3
   },
   "file_extension": ".py",
   "mimetype": "text/x-python",
   "name": "python",
   "nbconvert_exporter": "python",
   "pygments_lexer": "ipython3",
   "version": "3.8.5"
  }
 },
 "nbformat": 4,
 "nbformat_minor": 4
}
