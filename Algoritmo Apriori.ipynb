{
 "cells": [
  {
   "cell_type": "code",
   "execution_count": 1,
   "metadata": {},
   "outputs": [],
   "source": [
    "import findspark\n",
    "findspark.init() \n",
    "from pyspark.sql import SparkSession\n",
    "import os\n",
    "\n",
    "\n",
    "MAX_MEMORY = \"8g\"\n",
    "spark = SparkSession.builder \\\n",
    "                    .master(\"local\") \\\n",
    "                    .appName('va_repositorio')\\\n",
    "                    .config(\"spark.executor.memory\", MAX_MEMORY) \\\n",
    "                    .config(\"spark.driver.memory\", MAX_MEMORY) \\\n",
    "                    .config(\"spark.jars\", \"E:\\\\va\\\\driverdb\\\\postgresql-42.2.5.jre6\") \\\n",
    "                    .getOrCreate()"
   ]
  },
  {
   "cell_type": "code",
   "execution_count": 2,
   "metadata": {},
   "outputs": [
    {
     "name": "stdout",
     "output_type": "stream",
     "text": [
      "root\n",
      " |-- periodo: string (nullable = true)\n",
      " |-- estu_mcpio_reside: string (nullable = true)\n",
      " |-- estu_genero: string (nullable = true)\n",
      " |-- estu_estadocivil: string (nullable = true)\n",
      " |-- estu_etnia: string (nullable = true)\n",
      " |-- estu_limita_motriz: string (nullable = true)\n",
      " |-- estu_limita_invidente: string (nullable = true)\n",
      " |-- estu_limita_sordoconinterprete: string (nullable = true)\n",
      " |-- estu_limita_sordosininterprete: string (nullable = true)\n",
      " |-- estu_limita_sordoceguera: string (nullable = true)\n",
      " |-- estu_porcentajecreditosaprob: string (nullable = true)\n",
      " |-- estu_valormatriculauniversidad: string (nullable = true)\n",
      " |-- estu_pagomatriculabeca: string (nullable = true)\n",
      " |-- estu_pagomatriculacredito: string (nullable = true)\n",
      " |-- estu_pagomatriculapadres: string (nullable = true)\n",
      " |-- estu_pagomatriculapropio: string (nullable = true)\n",
      " |-- estu_tomo_cursopreparacion: string (nullable = true)\n",
      " |-- estu_cursodocentesies: string (nullable = true)\n",
      " |-- estu_cursoiesapoyoexterno: string (nullable = true)\n",
      " |-- estu_cursoiesexterna: string (nullable = true)\n",
      " |-- estu_simulacrotipoicfes: string (nullable = true)\n",
      " |-- estu_actividadrefuerzoareas: string (nullable = true)\n",
      " |-- estu_actividadrefuerzogeneric: string (nullable = true)\n",
      " |-- estu_semestrecursa: string (nullable = true)\n",
      " |-- fami_hogaractual: string (nullable = true)\n",
      " |-- fami_cabezafamilia: string (nullable = true)\n",
      " |-- fami_numpersonasacargo: string (nullable = true)\n",
      " |-- fami_educacionpadre: string (nullable = true)\n",
      " |-- fami_educacionmadre: string (nullable = true)\n",
      " |-- fami_ocupacionpadre: string (nullable = true)\n",
      " |-- fami_ocupacionmadre: string (nullable = true)\n",
      " |-- fami_estratovivienda: string (nullable = true)\n",
      " |-- fami_nivel_sisben: string (nullable = true)\n",
      " |-- fami_personashogar: string (nullable = true)\n",
      " |-- fami_cuartoshogar: string (nullable = true)\n",
      " |-- fami_pisos_hogar: string (nullable = true)\n",
      " |-- fami_tieneinternet: string (nullable = true)\n",
      " |-- fami_tiene_serviciotv: string (nullable = true)\n",
      " |-- fami_tienecomputador: string (nullable = true)\n",
      " |-- fami_tienelavadora: string (nullable = true)\n",
      " |-- fami_tiene_microondas: string (nullable = true)\n",
      " |-- fami_tiene_horno: string (nullable = true)\n",
      " |-- fami_tieneautomovil: string (nullable = true)\n",
      " |-- fami_tiene_dvd: string (nullable = true)\n",
      " |-- fami_tiene_nevera: string (nullable = true)\n",
      " |-- fami_tiene_celular: string (nullable = true)\n",
      " |-- fami_telefono: string (nullable = true)\n",
      " |-- fami_tienehornomicroogas: string (nullable = true)\n",
      " |-- fami_tienemotocicleta: string (nullable = true)\n",
      " |-- fami_numlibros: string (nullable = true)\n",
      " |-- estu_dedicacionlecturadiaria: string (nullable = true)\n",
      " |-- estu_dedicacioninternet: string (nullable = true)\n",
      " |-- fami_tieneconsolavideojuegos: string (nullable = true)\n",
      " |-- fami_cuantoscompartebano: string (nullable = true)\n",
      " |-- fami_ingreso_fmiliar_mensual: string (nullable = true)\n",
      " |-- estu_trabaja_actualmente: string (nullable = true)\n",
      " |-- estu_horassemanatrabaja: string (nullable = true)\n",
      " |-- estu_tiporemuneracion: string (nullable = true)\n",
      " |-- estu_prgm_academico: string (nullable = true)\n",
      " |-- gruporeferencia: string (nullable = true)\n",
      " |-- inst_origen: string (nullable = true)\n",
      " |-- estu_privado_libertad: string (nullable = true)\n",
      " |-- estu_nse_individual: string (nullable = true)\n",
      " |-- estu_nse_ies: string (nullable = true)\n",
      " |-- estu_consecutivo: string (nullable = true)\n",
      " |-- clase_va_razonamiento_cuantitativo: string (nullable = true)\n",
      " |-- clase_va_lectura_critica: string (nullable = true)\n",
      " |-- clase_va_competencias_ciudadanas: string (nullable = true)\n",
      " |-- clase_va_ingles: string (nullable = true)\n",
      " |-- anio_preparacion: integer (nullable = true)\n",
      "\n"
     ]
    }
   ],
   "source": [
    "tabla=\"proyecto.view_clase_va\"\n",
    "df  = spark.read \\\n",
    "    .format(\"jdbc\") \\\n",
    "    .option(\"url\", \"jdbc:postgresql://localhost:5432/va\") \\\n",
    "    .option(\"dbtable\", tabla) \\\n",
    "    .option(\"user\", \"postgres\") \\\n",
    "    .option(\"password\", \"david\") \\\n",
    "    .option(\"driver\", \"org.postgresql.Driver\") \\\n",
    "    .load()\n",
    "df.printSchema()"
   ]
  },
  {
   "cell_type": "code",
   "execution_count": 3,
   "metadata": {},
   "outputs": [],
   "source": [
    "#CONVERTIR EL DF A TO PANDAS\n",
    "df_pan=df.toPandas().drop(columns=['estu_consecutivo','estu_nse_ies','estu_limita_motriz',\n",
    "                                   'estu_limita_invidente','estu_limita_sordoconinterprete','estu_limita_sordosininterprete',\n",
    "                                  'estu_limita_sordoceguera','inst_origen','estu_privado_libertad'])"
   ]
  },
  {
   "cell_type": "code",
   "execution_count": 4,
   "metadata": {},
   "outputs": [],
   "source": [
    "#castear tipo object string\n",
    "df_pan = df_pan.astype(str)"
   ]
  },
  {
   "cell_type": "code",
   "execution_count": 6,
   "metadata": {},
   "outputs": [
    {
     "data": {
      "text/plain": [
       "periodo                               object\n",
       "estu_mcpio_reside                     object\n",
       "estu_genero                           object\n",
       "estu_estadocivil                      object\n",
       "estu_etnia                            object\n",
       "                                       ...  \n",
       "clase_va_razonamiento_cuantitativo    object\n",
       "clase_va_lectura_critica              object\n",
       "clase_va_competencias_ciudadanas      object\n",
       "clase_va_ingles                       object\n",
       "anio_preparacion                      object\n",
       "Length: 61, dtype: object"
      ]
     },
     "execution_count": 6,
     "metadata": {},
     "output_type": "execute_result"
    }
   ],
   "source": [
    "df_pan.dtypes"
   ]
  },
  {
   "cell_type": "code",
   "execution_count": 7,
   "metadata": {},
   "outputs": [],
   "source": [
    "#CONVERTIR VARIABLES A DUMMIES \n",
    "import pandas as pd\n",
    "df_va_dummies= pd.get_dummies(df_pan,drop_first=True)\n",
    "df_va_dummies.drop(columns=['fami_tienehornomicroogas_no_aplica',\n",
    "                            'fami_tienemotocicleta_no_aplica',\n",
    "                            'estu_nse_individual_no_aplica',\n",
    "                            'estu_horassemanatrabaja_no_aplica',\n",
    "'fami_tieneconsolavideojuegos_no_aplica',\n",
    "'estu_pagomatriculabeca_no_aplica',\n",
    "'estu_pagomatriculacredito_no_aplica',\n",
    "'estu_pagomatriculapropio_no_aplica',\n",
    "'estu_tiporemuneracion_no_aplica',\n",
    "'fami_tieneinternet_no_aplica',\n",
    "'estu_pagomatriculapadres_no_aplica',\n",
    "'estu_etnia_no_aplica',\n",
    "'fami_hogaractual_no_aplica',\n",
    "'fami_cabezafamilia_no_aplica',\n",
    "'estu_valormatriculauniversidad_no_aplica',\n",
    "'fami_educacionmadre_no_aplica',\n",
    "'fami_tienecomputador_no_aplica',\n",
    "'fami_educacionpadre_no_aplica',\n",
    "'fami_tienelavadora_no_aplica',\n",
    "'fami_tieneautomovil_no_aplica',\n",
    "'fami_tiene_serviciotv_no_aplica',\n",
    "'fami_ocupacionpadre_no_aplica',\n",
    "'fami_ocupacionmadre_no_aplica',\n",
    "'estu_estadocivil_no_aplica',\n",
    "'estu_simulacrotipoicfes_no_aplica',\n",
    "'estu_actividadrefuerzoareas_no_aplica',\n",
    "'estu_actividadrefuerzogeneric_no_aplica',\n",
    "'estu_tomo_cursopreparacion_no_aplica',\n",
    "'estu_trabaja_actualmente_no_aplica',\n",
    "'fami_pisos_hogar_no_aplica',\n",
    "'fami_tiene_microondas_no_aplica',\n",
    "'fami_tiene_horno_no_aplica',\n",
    "'fami_tiene_dvd_no_aplica',\n",
    "'fami_telefono_no_aplica',\n",
    "'fami_ingreso_fmiliar_mensual_no_aplica',\n",
    "'fami_tiene_nevera_no_aplica',\n",
    "'fami_tiene_celular_no_aplica'],inplace=True)"
   ]
  },
  {
   "cell_type": "code",
   "execution_count": 8,
   "metadata": {},
   "outputs": [
    {
     "data": {
      "text/plain": [
       "periodo_20123         0\n",
       "periodo_20131         0\n",
       "periodo_20133         0\n",
       "periodo_20142         0\n",
       "periodo_20143         0\n",
       "                     ..\n",
       "anio_preparacion_5    0\n",
       "anio_preparacion_6    0\n",
       "anio_preparacion_7    0\n",
       "anio_preparacion_8    0\n",
       "anio_preparacion_9    0\n",
       "Length: 399, dtype: int64"
      ]
     },
     "metadata": {},
     "output_type": "display_data"
    }
   ],
   "source": [
    "display(df_va_dummies.isnull().sum())"
   ]
  },
  {
   "cell_type": "code",
   "execution_count": 9,
   "metadata": {},
   "outputs": [
    {
     "data": {
      "text/html": [
       "<div>\n",
       "<style scoped>\n",
       "    .dataframe tbody tr th:only-of-type {\n",
       "        vertical-align: middle;\n",
       "    }\n",
       "\n",
       "    .dataframe tbody tr th {\n",
       "        vertical-align: top;\n",
       "    }\n",
       "\n",
       "    .dataframe thead th {\n",
       "        text-align: right;\n",
       "    }\n",
       "</style>\n",
       "<table border=\"1\" class=\"dataframe\">\n",
       "  <thead>\n",
       "    <tr style=\"text-align: right;\">\n",
       "      <th></th>\n",
       "      <th>periodo_20123</th>\n",
       "      <th>periodo_20131</th>\n",
       "      <th>periodo_20133</th>\n",
       "      <th>periodo_20142</th>\n",
       "      <th>periodo_20143</th>\n",
       "      <th>periodo_20152</th>\n",
       "      <th>periodo_20153</th>\n",
       "      <th>periodo_20162</th>\n",
       "      <th>periodo_20163</th>\n",
       "      <th>periodo_20172</th>\n",
       "      <th>...</th>\n",
       "      <th>anio_preparacion_11</th>\n",
       "      <th>anio_preparacion_12</th>\n",
       "      <th>anio_preparacion_2</th>\n",
       "      <th>anio_preparacion_3</th>\n",
       "      <th>anio_preparacion_4</th>\n",
       "      <th>anio_preparacion_5</th>\n",
       "      <th>anio_preparacion_6</th>\n",
       "      <th>anio_preparacion_7</th>\n",
       "      <th>anio_preparacion_8</th>\n",
       "      <th>anio_preparacion_9</th>\n",
       "    </tr>\n",
       "  </thead>\n",
       "  <tbody>\n",
       "    <tr>\n",
       "      <th>0</th>\n",
       "      <td>0</td>\n",
       "      <td>0</td>\n",
       "      <td>0</td>\n",
       "      <td>0</td>\n",
       "      <td>0</td>\n",
       "      <td>0</td>\n",
       "      <td>0</td>\n",
       "      <td>0</td>\n",
       "      <td>0</td>\n",
       "      <td>1</td>\n",
       "      <td>...</td>\n",
       "      <td>0</td>\n",
       "      <td>0</td>\n",
       "      <td>0</td>\n",
       "      <td>0</td>\n",
       "      <td>0</td>\n",
       "      <td>1</td>\n",
       "      <td>0</td>\n",
       "      <td>0</td>\n",
       "      <td>0</td>\n",
       "      <td>0</td>\n",
       "    </tr>\n",
       "    <tr>\n",
       "      <th>1</th>\n",
       "      <td>0</td>\n",
       "      <td>0</td>\n",
       "      <td>0</td>\n",
       "      <td>0</td>\n",
       "      <td>0</td>\n",
       "      <td>0</td>\n",
       "      <td>0</td>\n",
       "      <td>0</td>\n",
       "      <td>0</td>\n",
       "      <td>1</td>\n",
       "      <td>...</td>\n",
       "      <td>0</td>\n",
       "      <td>0</td>\n",
       "      <td>0</td>\n",
       "      <td>0</td>\n",
       "      <td>0</td>\n",
       "      <td>0</td>\n",
       "      <td>1</td>\n",
       "      <td>0</td>\n",
       "      <td>0</td>\n",
       "      <td>0</td>\n",
       "    </tr>\n",
       "  </tbody>\n",
       "</table>\n",
       "<p>2 rows × 399 columns</p>\n",
       "</div>"
      ],
      "text/plain": [
       "   periodo_20123  periodo_20131  periodo_20133  periodo_20142  periodo_20143  \\\n",
       "0              0              0              0              0              0   \n",
       "1              0              0              0              0              0   \n",
       "\n",
       "   periodo_20152  periodo_20153  periodo_20162  periodo_20163  periodo_20172  \\\n",
       "0              0              0              0              0              1   \n",
       "1              0              0              0              0              1   \n",
       "\n",
       "   ...  anio_preparacion_11  anio_preparacion_12  anio_preparacion_2  \\\n",
       "0  ...                    0                    0                   0   \n",
       "1  ...                    0                    0                   0   \n",
       "\n",
       "   anio_preparacion_3  anio_preparacion_4  anio_preparacion_5  \\\n",
       "0                   0                   0                   1   \n",
       "1                   0                   0                   0   \n",
       "\n",
       "   anio_preparacion_6  anio_preparacion_7  anio_preparacion_8  \\\n",
       "0                   0                   0                   0   \n",
       "1                   1                   0                   0   \n",
       "\n",
       "   anio_preparacion_9  \n",
       "0                   0  \n",
       "1                   0  \n",
       "\n",
       "[2 rows x 399 columns]"
      ]
     },
     "execution_count": 9,
     "metadata": {},
     "output_type": "execute_result"
    }
   ],
   "source": [
    "df_va_dummies.head(2)"
   ]
  },
  {
   "cell_type": "code",
   "execution_count": 8,
   "metadata": {},
   "outputs": [],
   "source": [
    "#df_va_dummies.to_excel(\".\\\\revisar.xlsx\")"
   ]
  },
  {
   "cell_type": "code",
   "execution_count": 11,
   "metadata": {},
   "outputs": [],
   "source": [
    "import mlxtend\n",
    "from mlxtend.frequent_patterns import apriori\n",
    "itemset_freq=apriori(df_va_dummies, min_support=0.1, use_colnames=True)"
   ]
  },
  {
   "cell_type": "code",
   "execution_count": 12,
   "metadata": {},
   "outputs": [
    {
     "data": {
      "text/html": [
       "<div>\n",
       "<style scoped>\n",
       "    .dataframe tbody tr th:only-of-type {\n",
       "        vertical-align: middle;\n",
       "    }\n",
       "\n",
       "    .dataframe tbody tr th {\n",
       "        vertical-align: top;\n",
       "    }\n",
       "\n",
       "    .dataframe thead th {\n",
       "        text-align: right;\n",
       "    }\n",
       "</style>\n",
       "<table border=\"1\" class=\"dataframe\">\n",
       "  <thead>\n",
       "    <tr style=\"text-align: right;\">\n",
       "      <th></th>\n",
       "      <th>support</th>\n",
       "      <th>itemsets</th>\n",
       "    </tr>\n",
       "  </thead>\n",
       "  <tbody>\n",
       "    <tr>\n",
       "      <th>157711</th>\n",
       "      <td>0.104925</td>\n",
       "      <td>(estu_cursoiesapoyoexterno_0, clase_va_razonam...</td>\n",
       "    </tr>\n",
       "    <tr>\n",
       "      <th>157712</th>\n",
       "      <td>0.107456</td>\n",
       "      <td>(estu_cursoiesapoyoexterno_0, estu_valormatric...</td>\n",
       "    </tr>\n",
       "    <tr>\n",
       "      <th>157713</th>\n",
       "      <td>0.114074</td>\n",
       "      <td>(estu_cursoiesapoyoexterno_0, clase_va_razonam...</td>\n",
       "    </tr>\n",
       "    <tr>\n",
       "      <th>157714</th>\n",
       "      <td>0.101226</td>\n",
       "      <td>(estu_cursoiesapoyoexterno_0, estu_valormatric...</td>\n",
       "    </tr>\n",
       "    <tr>\n",
       "      <th>157715</th>\n",
       "      <td>0.102978</td>\n",
       "      <td>(estu_cursoiesapoyoexterno_0, clase_va_razonam...</td>\n",
       "    </tr>\n",
       "  </tbody>\n",
       "</table>\n",
       "</div>"
      ],
      "text/plain": [
       "         support                                           itemsets\n",
       "157711  0.104925  (estu_cursoiesapoyoexterno_0, clase_va_razonam...\n",
       "157712  0.107456  (estu_cursoiesapoyoexterno_0, estu_valormatric...\n",
       "157713  0.114074  (estu_cursoiesapoyoexterno_0, clase_va_razonam...\n",
       "157714  0.101226  (estu_cursoiesapoyoexterno_0, estu_valormatric...\n",
       "157715  0.102978  (estu_cursoiesapoyoexterno_0, clase_va_razonam..."
      ]
     },
     "execution_count": 12,
     "metadata": {},
     "output_type": "execute_result"
    }
   ],
   "source": [
    "itemset_freq.tail()"
   ]
  },
  {
   "cell_type": "code",
   "execution_count": 13,
   "metadata": {},
   "outputs": [],
   "source": [
    "from mlxtend.frequent_patterns import association_rules\n",
    "reglas=association_rules(itemset_freq, metric=\"confidence\", min_threshold=0.7)"
   ]
  },
  {
   "cell_type": "code",
   "execution_count": 14,
   "metadata": {},
   "outputs": [],
   "source": [
    "reglas[\"antecedents\"] = reglas[\"antecedents\"].apply(lambda x: ', '.join(list(x))).astype(\"unicode\")\n",
    "reglas[\"consequents\"] = reglas[\"consequents\"].apply(lambda x: ', '.join(list(x))).astype(\"unicode\")"
   ]
  },
  {
   "cell_type": "code",
   "execution_count": 13,
   "metadata": {},
   "outputs": [
    {
     "data": {
      "text/html": [
       "<div>\n",
       "<style scoped>\n",
       "    .dataframe tbody tr th:only-of-type {\n",
       "        vertical-align: middle;\n",
       "    }\n",
       "\n",
       "    .dataframe tbody tr th {\n",
       "        vertical-align: top;\n",
       "    }\n",
       "\n",
       "    .dataframe thead th {\n",
       "        text-align: right;\n",
       "    }\n",
       "</style>\n",
       "<table border=\"1\" class=\"dataframe\">\n",
       "  <thead>\n",
       "    <tr style=\"text-align: right;\">\n",
       "      <th></th>\n",
       "      <th>antecedents</th>\n",
       "      <th>consequents</th>\n",
       "      <th>antecedent support</th>\n",
       "      <th>consequent support</th>\n",
       "      <th>support</th>\n",
       "      <th>confidence</th>\n",
       "      <th>lift</th>\n",
       "      <th>leverage</th>\n",
       "      <th>conviction</th>\n",
       "    </tr>\n",
       "  </thead>\n",
       "  <tbody>\n",
       "    <tr>\n",
       "      <th>0</th>\n",
       "      <td>(2)</td>\n",
       "      <td>(57)</td>\n",
       "      <td>0.126338</td>\n",
       "      <td>0.824216</td>\n",
       "      <td>0.106482</td>\n",
       "      <td>0.842835</td>\n",
       "      <td>1.022590</td>\n",
       "      <td>0.002352</td>\n",
       "      <td>1.118466</td>\n",
       "    </tr>\n",
       "    <tr>\n",
       "      <th>1</th>\n",
       "      <td>(2)</td>\n",
       "      <td>(91)</td>\n",
       "      <td>0.126338</td>\n",
       "      <td>0.798131</td>\n",
       "      <td>0.120888</td>\n",
       "      <td>0.956857</td>\n",
       "      <td>1.198871</td>\n",
       "      <td>0.020053</td>\n",
       "      <td>4.679030</td>\n",
       "    </tr>\n",
       "    <tr>\n",
       "      <th>2</th>\n",
       "      <td>(2)</td>\n",
       "      <td>(108)</td>\n",
       "      <td>0.126338</td>\n",
       "      <td>0.887872</td>\n",
       "      <td>0.113685</td>\n",
       "      <td>0.899846</td>\n",
       "      <td>1.013486</td>\n",
       "      <td>0.001513</td>\n",
       "      <td>1.119552</td>\n",
       "    </tr>\n",
       "    <tr>\n",
       "      <th>3</th>\n",
       "      <td>(2)</td>\n",
       "      <td>(112)</td>\n",
       "      <td>0.126338</td>\n",
       "      <td>0.792486</td>\n",
       "      <td>0.105509</td>\n",
       "      <td>0.835131</td>\n",
       "      <td>1.053812</td>\n",
       "      <td>0.005388</td>\n",
       "      <td>1.258660</td>\n",
       "    </tr>\n",
       "    <tr>\n",
       "      <th>4</th>\n",
       "      <td>(2)</td>\n",
       "      <td>(115)</td>\n",
       "      <td>0.126338</td>\n",
       "      <td>0.481215</td>\n",
       "      <td>0.123029</td>\n",
       "      <td>0.973806</td>\n",
       "      <td>2.023641</td>\n",
       "      <td>0.062233</td>\n",
       "      <td>19.805391</td>\n",
       "    </tr>\n",
       "  </tbody>\n",
       "</table>\n",
       "</div>"
      ],
      "text/plain": [
       "  antecedents consequents  antecedent support  consequent support   support  \\\n",
       "0         (2)        (57)            0.126338            0.824216  0.106482   \n",
       "1         (2)        (91)            0.126338            0.798131  0.120888   \n",
       "2         (2)       (108)            0.126338            0.887872  0.113685   \n",
       "3         (2)       (112)            0.126338            0.792486  0.105509   \n",
       "4         (2)       (115)            0.126338            0.481215  0.123029   \n",
       "\n",
       "   confidence      lift  leverage  conviction  \n",
       "0    0.842835  1.022590  0.002352    1.118466  \n",
       "1    0.956857  1.198871  0.020053    4.679030  \n",
       "2    0.899846  1.013486  0.001513    1.119552  \n",
       "3    0.835131  1.053812  0.005388    1.258660  \n",
       "4    0.973806  2.023641  0.062233   19.805391  "
      ]
     },
     "execution_count": 13,
     "metadata": {},
     "output_type": "execute_result"
    }
   ],
   "source": [
    "#reglas = reglas.astype(str)\n",
    "reglas.head(5)"
   ]
  },
  {
   "cell_type": "code",
   "execution_count": 14,
   "metadata": {},
   "outputs": [
    {
     "data": {
      "text/plain": [
       "antecedents           6021962\n",
       "consequents           6021962\n",
       "antecedent support    6021962\n",
       "consequent support    6021962\n",
       "support               6021962\n",
       "confidence            6021962\n",
       "lift                  6021962\n",
       "leverage              6021962\n",
       "conviction            6021962\n",
       "dtype: int64"
      ]
     },
     "execution_count": 14,
     "metadata": {},
     "output_type": "execute_result"
    }
   ],
   "source": [
    "reglas.count()"
   ]
  },
  {
   "cell_type": "code",
   "execution_count": 15,
   "metadata": {},
   "outputs": [],
   "source": [
    "#reglas = reglas.astype(str)\n",
    "#reglas = reglas.write.csv(\"C:\\Spark\")\n",
    "reglas.to_csv(\".\\\\reglas.csv\", encoding='utf-8', index=False)"
   ]
  },
  {
   "cell_type": "code",
   "execution_count": 16,
   "metadata": {},
   "outputs": [
    {
     "data": {
      "text/plain": [
       "antecedents            object\n",
       "consequents            object\n",
       "antecedent support    float64\n",
       "consequent support    float64\n",
       "support               float64\n",
       "confidence            float64\n",
       "lift                  float64\n",
       "leverage              float64\n",
       "conviction            float64\n",
       "dtype: object"
      ]
     },
     "execution_count": 16,
     "metadata": {},
     "output_type": "execute_result"
    }
   ],
   "source": [
    "reglas.dtypes"
   ]
  }
 ],
 "metadata": {
  "kernelspec": {
   "display_name": "Python 3",
   "language": "python",
   "name": "python3"
  },
  "language_info": {
   "codemirror_mode": {
    "name": "ipython",
    "version": 3
   },
   "file_extension": ".py",
   "mimetype": "text/x-python",
   "name": "python",
   "nbconvert_exporter": "python",
   "pygments_lexer": "ipython3",
   "version": "3.8.5"
  }
 },
 "nbformat": 4,
 "nbformat_minor": 4
}
