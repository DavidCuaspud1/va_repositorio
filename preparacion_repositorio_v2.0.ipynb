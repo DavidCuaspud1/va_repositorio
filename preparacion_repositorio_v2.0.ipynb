{
 "cells": [
  {
   "cell_type": "code",
   "execution_count": 2,
   "metadata": {},
   "outputs": [],
   "source": [
    "#referencia https://medium.com/towards-artificial-intelligence/multi-class-text-classification-using-pyspark-mllib-doc2vec-dbfcee5b39f2\n",
    "import findspark\n",
    "findspark.init() \n",
    "from pyspark.sql import SparkSession\n",
    "import os\n",
    "\n",
    "\n",
    "MAX_MEMORY = \"8g\"\n",
    "spark = SparkSession.builder \\\n",
    "                    .master(\"local\") \\\n",
    "                    .appName('va_repositorio')\\\n",
    "                    .config(\"spark.executor.memory\", MAX_MEMORY) \\\n",
    "                    .config(\"spark.driver.memory\", MAX_MEMORY) \\\n",
    "                    .config(\"spark.jars\", \"E:\\\\va\\\\driverdb\\\\postgresql-42.2.5.jre6\") \\\n",
    "                    .getOrCreate()"
   ]
  },
  {
   "cell_type": "code",
   "execution_count": 4,
   "metadata": {},
   "outputs": [
    {
     "name": "stdout",
     "output_type": "stream",
     "text": [
      "root\n",
      " |-- periodo: string (nullable = true)\n",
      " |-- estu_mcpio_reside: string (nullable = true)\n",
      " |-- estu_genero: string (nullable = true)\n",
      " |-- estu_estadocivil: string (nullable = true)\n",
      " |-- estu_etnia: string (nullable = true)\n",
      " |-- estu_limita_motriz: string (nullable = true)\n",
      " |-- estu_limita_invidente: string (nullable = true)\n",
      " |-- estu_limita_sordoconinterprete: string (nullable = true)\n",
      " |-- estu_limita_sordosininterprete: string (nullable = true)\n",
      " |-- estu_limita_sordoceguera: string (nullable = true)\n",
      " |-- estu_porcentajecreditosaprob: string (nullable = true)\n",
      " |-- estu_valormatriculauniversidad: string (nullable = true)\n",
      " |-- estu_pagomatriculabeca: string (nullable = true)\n",
      " |-- estu_pagomatriculacredito: string (nullable = true)\n",
      " |-- estu_pagomatriculapadres: string (nullable = true)\n",
      " |-- estu_pagomatriculapropio: string (nullable = true)\n",
      " |-- estu_tomo_cursopreparacion: string (nullable = true)\n",
      " |-- estu_cursodocentesies: string (nullable = true)\n",
      " |-- estu_cursoiesapoyoexterno: string (nullable = true)\n",
      " |-- estu_cursoiesexterna: string (nullable = true)\n",
      " |-- estu_simulacrotipoicfes: string (nullable = true)\n",
      " |-- estu_actividadrefuerzoareas: string (nullable = true)\n",
      " |-- estu_actividadrefuerzogeneric: string (nullable = true)\n",
      " |-- estu_semestrecursa: string (nullable = true)\n",
      " |-- fami_hogaractual: string (nullable = true)\n",
      " |-- fami_cabezafamilia: string (nullable = true)\n",
      " |-- fami_numpersonasacargo: string (nullable = true)\n",
      " |-- fami_educacionpadre: string (nullable = true)\n",
      " |-- fami_educacionmadre: string (nullable = true)\n",
      " |-- fami_ocupacionpadre: string (nullable = true)\n",
      " |-- fami_ocupacionmadre: string (nullable = true)\n",
      " |-- fami_estratovivienda: string (nullable = true)\n",
      " |-- fami_nivel_sisben: string (nullable = true)\n",
      " |-- fami_personashogar: string (nullable = true)\n",
      " |-- fami_cuartoshogar: string (nullable = true)\n",
      " |-- fami_pisos_hogar: string (nullable = true)\n",
      " |-- fami_tieneinternet: string (nullable = true)\n",
      " |-- fami_tiene_serviciotv: string (nullable = true)\n",
      " |-- fami_tienecomputador: string (nullable = true)\n",
      " |-- fami_tienelavadora: string (nullable = true)\n",
      " |-- fami_tiene_microondas: string (nullable = true)\n",
      " |-- fami_tiene_horno: string (nullable = true)\n",
      " |-- fami_tieneautomovil: string (nullable = true)\n",
      " |-- fami_tiene_dvd: string (nullable = true)\n",
      " |-- fami_tiene_nevera: string (nullable = true)\n",
      " |-- fami_tiene_celular: string (nullable = true)\n",
      " |-- fami_telefono: string (nullable = true)\n",
      " |-- fami_tienehornomicroogas: string (nullable = true)\n",
      " |-- fami_tienemotocicleta: string (nullable = true)\n",
      " |-- fami_numlibros: string (nullable = true)\n",
      " |-- estu_dedicacionlecturadiaria: string (nullable = true)\n",
      " |-- estu_dedicacioninternet: string (nullable = true)\n",
      " |-- fami_tieneconsolavideojuegos: string (nullable = true)\n",
      " |-- fami_cuantoscompartebano: string (nullable = true)\n",
      " |-- fami_ingreso_fmiliar_mensual: string (nullable = true)\n",
      " |-- estu_trabaja_actualmente: string (nullable = true)\n",
      " |-- estu_horassemanatrabaja: string (nullable = true)\n",
      " |-- estu_tiporemuneracion: string (nullable = true)\n",
      " |-- estu_prgm_academico: string (nullable = true)\n",
      " |-- gruporeferencia: string (nullable = true)\n",
      " |-- inst_origen: string (nullable = true)\n",
      " |-- estu_privado_libertad: string (nullable = true)\n",
      " |-- estu_nse_individual: string (nullable = true)\n",
      " |-- estu_nse_ies: string (nullable = true)\n",
      " |-- estu_consecutivo: string (nullable = true)\n",
      "\n"
     ]
    }
   ],
   "source": [
    "tabla=\"proyecto.va_repositorio_inicial\"\n",
    "df  = spark.read \\\n",
    "    .format(\"jdbc\") \\\n",
    "    .option(\"url\", \"jdbc:postgresql://localhost:5432/va\") \\\n",
    "    .option(\"dbtable\", tabla) \\\n",
    "    .option(\"user\", \"postgres\") \\\n",
    "    .option(\"password\", \"david\") \\\n",
    "    .option(\"driver\", \"org.postgresql.Driver\") \\\n",
    "    .load()\n",
    "df.printSchema()"
   ]
  },
  {
   "cell_type": "code",
   "execution_count": 8,
   "metadata": {},
   "outputs": [],
   "source": [
    "from pyspark.sql.functions import regexp_replace\n",
    "from pyspark.sql.functions import lower, col\n",
    "import re\n",
    "for c in df.columns: \n",
    "    df=(df\n",
    "         .withColumn(c, lower(col(c)))\n",
    "         .withColumn(c, regexp_replace(c, ' ', '_'))\n",
    "         .withColumn(c, regexp_replace(c, ',', ''))\n",
    "         .withColumn(c, regexp_replace(c, 'á', 'a'))\n",
    "         .withColumn(c, regexp_replace(c, 'é', 'e'))\n",
    "         .withColumn(c, regexp_replace(c, 'é', 'e'))\n",
    "         .withColumn(c, regexp_replace(c, 'í', 'i'))\n",
    "         .withColumn(c, regexp_replace(c, 'ó', 'o'))\n",
    "         .withColumn(c, regexp_replace(c, 'ú', 'u'))\n",
    "         .withColumn(c, regexp_replace(c, 'ñ', 'n')))"
   ]
  },
  {
   "cell_type": "code",
   "execution_count": 32,
   "metadata": {},
   "outputs": [],
   "source": [
    "df=(df\n",
    "         .withColumn(\"estu_mcpio_reside\", regexp_replace(\"estu_mcpio_reside\", 'ü', 'u'))\n",
    "         .withColumn(\"estu_estadocivil\", regexp_replace(\"estu_estadocivil\", '/', '_'))\n",
    "         .withColumn(\"estu_trabaja_actualmente\", regexp_replace(\"estu_trabaja_actualmente\", '/', '_'))\n",
    "         .withColumn(\"estu_porcentajecreditosaprob\", regexp_replace(\"estu_porcentajecreditosaprob\", '%', '_por_centaje')))"
   ]
  },
  {
   "cell_type": "code",
   "execution_count": 38,
   "metadata": {},
   "outputs": [
    {
     "ename": "TypeError",
     "evalue": "expected string or bytes-like object",
     "output_type": "error",
     "traceback": [
      "\u001b[1;31m---------------------------------------------------------------------------\u001b[0m",
      "\u001b[1;31mTypeError\u001b[0m                                 Traceback (most recent call last)",
      "\u001b[1;32m<ipython-input-38-c6685577ffd5>\u001b[0m in \u001b[0;36m<module>\u001b[1;34m\u001b[0m\n\u001b[0;32m      1\u001b[0m \u001b[1;32mimport\u001b[0m \u001b[0mre\u001b[0m\u001b[1;33m\u001b[0m\u001b[1;33m\u001b[0m\u001b[0m\n\u001b[0;32m      2\u001b[0m \u001b[1;33m\u001b[0m\u001b[0m\n\u001b[1;32m----> 3\u001b[1;33m \u001b[0mre\u001b[0m\u001b[1;33m.\u001b[0m\u001b[0msub\u001b[0m\u001b[1;33m(\u001b[0m\u001b[1;34mr\"(bachillerato)\"\u001b[0m\u001b[1;33m,\u001b[0m\u001b[1;34m\"bachillerato\"\u001b[0m\u001b[1;33m,\u001b[0m\u001b[0mdf\u001b[0m\u001b[1;33m.\u001b[0m\u001b[0mfami_educacionpadre\u001b[0m\u001b[1;33m)\u001b[0m\u001b[1;33m\u001b[0m\u001b[1;33m\u001b[0m\u001b[0m\n\u001b[0m",
      "\u001b[1;32m~\\anaconda3\\lib\\re.py\u001b[0m in \u001b[0;36msub\u001b[1;34m(pattern, repl, string, count, flags)\u001b[0m\n\u001b[0;32m    208\u001b[0m     \u001b[0ma\u001b[0m \u001b[0mcallable\u001b[0m\u001b[1;33m,\u001b[0m \u001b[0mit\u001b[0m\u001b[0;31m'\u001b[0m\u001b[0ms\u001b[0m \u001b[0mpassed\u001b[0m \u001b[0mthe\u001b[0m \u001b[0mMatch\u001b[0m \u001b[0mobject\u001b[0m \u001b[1;32mand\u001b[0m \u001b[0mmust\u001b[0m \u001b[1;32mreturn\u001b[0m\u001b[1;33m\u001b[0m\u001b[1;33m\u001b[0m\u001b[0m\n\u001b[0;32m    209\u001b[0m     a replacement string to be used.\"\"\"\n\u001b[1;32m--> 210\u001b[1;33m     \u001b[1;32mreturn\u001b[0m \u001b[0m_compile\u001b[0m\u001b[1;33m(\u001b[0m\u001b[0mpattern\u001b[0m\u001b[1;33m,\u001b[0m \u001b[0mflags\u001b[0m\u001b[1;33m)\u001b[0m\u001b[1;33m.\u001b[0m\u001b[0msub\u001b[0m\u001b[1;33m(\u001b[0m\u001b[0mrepl\u001b[0m\u001b[1;33m,\u001b[0m \u001b[0mstring\u001b[0m\u001b[1;33m,\u001b[0m \u001b[0mcount\u001b[0m\u001b[1;33m)\u001b[0m\u001b[1;33m\u001b[0m\u001b[1;33m\u001b[0m\u001b[0m\n\u001b[0m\u001b[0;32m    211\u001b[0m \u001b[1;33m\u001b[0m\u001b[0m\n\u001b[0;32m    212\u001b[0m \u001b[1;32mdef\u001b[0m \u001b[0msubn\u001b[0m\u001b[1;33m(\u001b[0m\u001b[0mpattern\u001b[0m\u001b[1;33m,\u001b[0m \u001b[0mrepl\u001b[0m\u001b[1;33m,\u001b[0m \u001b[0mstring\u001b[0m\u001b[1;33m,\u001b[0m \u001b[0mcount\u001b[0m\u001b[1;33m=\u001b[0m\u001b[1;36m0\u001b[0m\u001b[1;33m,\u001b[0m \u001b[0mflags\u001b[0m\u001b[1;33m=\u001b[0m\u001b[1;36m0\u001b[0m\u001b[1;33m)\u001b[0m\u001b[1;33m:\u001b[0m\u001b[1;33m\u001b[0m\u001b[1;33m\u001b[0m\u001b[0m\n",
      "\u001b[1;31mTypeError\u001b[0m: expected string or bytes-like object"
     ]
    }
   ],
   "source": [
    "import re\n",
    "\n",
    "string = \"Hey! What's up bro?\"\n",
    "new_string = re.sub(r\"[^a-zA-Z0-9]\",\"\",string)\n",
    "print(new_string)"
   ]
  },
  {
   "cell_type": "code",
   "execution_count": 37,
   "metadata": {},
   "outputs": [
    {
     "name": "stdout",
     "output_type": "stream",
     "text": [
      "+--------------------+-----+\n",
      "| fami_educacionpadre|count|\n",
      "+--------------------+-----+\n",
      "|educacion_profesi...|  920|\n",
      "|           no_aplica|    9|\n",
      "|secundaria_(bachi...|  825|\n",
      "|educacion_profesi...|  188|\n",
      "|   primaria_completa| 1228|\n",
      "|           postgrado|  376|\n",
      "|tecnica_o_tecnolo...|  164|\n",
      "|secundaria_(bachi...| 2029|\n",
      "| primaria_incompleta| 1798|\n",
      "|             no_sabe|   95|\n",
      "|             ninguno|  292|\n",
      "|tecnica_o_tecnolo...|  487|\n",
      "|                    |  188|\n",
      "+--------------------+-----+\n",
      "\n"
     ]
    }
   ],
   "source": [
    "df.groupby(\"fami_educacionpadre\").count().show()\n",
    "\n"
   ]
  },
  {
   "cell_type": "code",
   "execution_count": 12,
   "metadata": {},
   "outputs": [],
   "source": [
    "df.write.jdbc(url=\"jdbc:postgresql://localhost:5432/va\"\n",
    "                  \"?user=postgres&password=david\",\n",
    "              table=\"proyecto.va_repositorio_v2\",\n",
    "              mode=\"overwrite\",\n",
    "              properties={\"driver\": 'org.postgresql.Driver'})"
   ]
  }
 ],
 "metadata": {
  "kernelspec": {
   "display_name": "Python 3",
   "language": "python",
   "name": "python3"
  },
  "language_info": {
   "codemirror_mode": {
    "name": "ipython",
    "version": 3
   },
   "file_extension": ".py",
   "mimetype": "text/x-python",
   "name": "python",
   "nbconvert_exporter": "python",
   "pygments_lexer": "ipython3",
   "version": "3.8.5"
  }
 },
 "nbformat": 4,
 "nbformat_minor": 4
}
